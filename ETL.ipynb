{
 "cells": [
  {
   "cell_type": "code",
   "execution_count": 1,
   "metadata": {},
   "outputs": [],
   "source": [
    "# se importan las librerias a utilizar en el proceso de ETL\n",
    "import pandas as pd\n",
    "import numpy as np\n",
    "import seaborn as sns\n",
    "sns.set()"
   ]
  },
  {
   "cell_type": "code",
   "execution_count": 35,
   "metadata": {},
   "outputs": [
    {
     "name": "stderr",
     "output_type": "stream",
     "text": [
      "C:\\Users\\Guille\\AppData\\Local\\Temp\\ipykernel_14684\\3884198327.py:2: DtypeWarning: Columns (10) have mixed types. Specify dtype option on import or set low_memory=False.\n",
      "  df_movies = pd.read_csv('./Dataset/movies_dataset.csv',delimiter=',')\n"
     ]
    },
    {
     "data": {
      "text/html": [
       "<div>\n",
       "<style scoped>\n",
       "    .dataframe tbody tr th:only-of-type {\n",
       "        vertical-align: middle;\n",
       "    }\n",
       "\n",
       "    .dataframe tbody tr th {\n",
       "        vertical-align: top;\n",
       "    }\n",
       "\n",
       "    .dataframe thead th {\n",
       "        text-align: right;\n",
       "    }\n",
       "</style>\n",
       "<table border=\"1\" class=\"dataframe\">\n",
       "  <thead>\n",
       "    <tr style=\"text-align: right;\">\n",
       "      <th></th>\n",
       "      <th>adult</th>\n",
       "      <th>belongs_to_collection</th>\n",
       "      <th>budget</th>\n",
       "      <th>genres</th>\n",
       "      <th>homepage</th>\n",
       "      <th>id</th>\n",
       "      <th>imdb_id</th>\n",
       "      <th>original_language</th>\n",
       "      <th>original_title</th>\n",
       "      <th>overview</th>\n",
       "      <th>...</th>\n",
       "      <th>release_date</th>\n",
       "      <th>revenue</th>\n",
       "      <th>runtime</th>\n",
       "      <th>spoken_languages</th>\n",
       "      <th>status</th>\n",
       "      <th>tagline</th>\n",
       "      <th>title</th>\n",
       "      <th>video</th>\n",
       "      <th>vote_average</th>\n",
       "      <th>vote_count</th>\n",
       "    </tr>\n",
       "  </thead>\n",
       "  <tbody>\n",
       "    <tr>\n",
       "      <th>0</th>\n",
       "      <td>False</td>\n",
       "      <td>{'id': 10194, 'name': 'Toy Story Collection', ...</td>\n",
       "      <td>30000000</td>\n",
       "      <td>[{'id': 16, 'name': 'Animation'}, {'id': 35, '...</td>\n",
       "      <td>http://toystory.disney.com/toy-story</td>\n",
       "      <td>862</td>\n",
       "      <td>tt0114709</td>\n",
       "      <td>en</td>\n",
       "      <td>Toy Story</td>\n",
       "      <td>Led by Woody, Andy's toys live happily in his ...</td>\n",
       "      <td>...</td>\n",
       "      <td>1995-10-30</td>\n",
       "      <td>373554033.0</td>\n",
       "      <td>81.0</td>\n",
       "      <td>[{'iso_639_1': 'en', 'name': 'English'}]</td>\n",
       "      <td>Released</td>\n",
       "      <td>NaN</td>\n",
       "      <td>Toy Story</td>\n",
       "      <td>False</td>\n",
       "      <td>7.7</td>\n",
       "      <td>5415.0</td>\n",
       "    </tr>\n",
       "  </tbody>\n",
       "</table>\n",
       "<p>1 rows × 24 columns</p>\n",
       "</div>"
      ],
      "text/plain": [
       "   adult                              belongs_to_collection    budget  \\\n",
       "0  False  {'id': 10194, 'name': 'Toy Story Collection', ...  30000000   \n",
       "\n",
       "                                              genres  \\\n",
       "0  [{'id': 16, 'name': 'Animation'}, {'id': 35, '...   \n",
       "\n",
       "                               homepage   id    imdb_id original_language  \\\n",
       "0  http://toystory.disney.com/toy-story  862  tt0114709                en   \n",
       "\n",
       "  original_title                                           overview  ...  \\\n",
       "0      Toy Story  Led by Woody, Andy's toys live happily in his ...  ...   \n",
       "\n",
       "  release_date      revenue runtime                          spoken_languages  \\\n",
       "0   1995-10-30  373554033.0    81.0  [{'iso_639_1': 'en', 'name': 'English'}]   \n",
       "\n",
       "     status  tagline      title  video vote_average vote_count  \n",
       "0  Released      NaN  Toy Story  False          7.7     5415.0  \n",
       "\n",
       "[1 rows x 24 columns]"
      ]
     },
     "execution_count": 35,
     "metadata": {},
     "output_type": "execute_result"
    }
   ],
   "source": [
    "# Se carga en la variable df_movies utilizando pandas, la informacion contenida en el archivo movies_dataset.csv\n",
    "df_movies = pd.read_csv('./Dataset/movies_dataset.csv',delimiter=',')\n",
    "\n",
    "# Muestro la primera fila del dataframe df_movies\n",
    "df_movies.head(1)"
   ]
  },
  {
   "cell_type": "code",
   "execution_count": 19,
   "metadata": {},
   "outputs": [
    {
     "data": {
      "text/plain": [
       "adult                        0\n",
       "belongs_to_collection    40972\n",
       "budget                       0\n",
       "genres                       0\n",
       "homepage                 37684\n",
       "id                           0\n",
       "imdb_id                     17\n",
       "original_language           11\n",
       "original_title               0\n",
       "overview                   954\n",
       "popularity                   5\n",
       "poster_path                386\n",
       "production_companies         3\n",
       "production_countries         3\n",
       "release_date                87\n",
       "revenue                      6\n",
       "runtime                    263\n",
       "spoken_languages             6\n",
       "status                      87\n",
       "tagline                  25054\n",
       "title                        6\n",
       "video                        6\n",
       "vote_average                 6\n",
       "vote_count                   6\n",
       "dtype: int64"
      ]
     },
     "execution_count": 19,
     "metadata": {},
     "output_type": "execute_result"
    }
   ],
   "source": [
    "# Utilizo la funcion isnull() para detectar valores vacios y luego la funcion sum() para sumar la cantidad de valores vacios segun la columna.\n",
    "df_movies.isnull().sum()"
   ]
  },
  {
   "cell_type": "code",
   "execution_count": 20,
   "metadata": {},
   "outputs": [
    {
     "name": "stdout",
     "output_type": "stream",
     "text": [
      "<class 'pandas.core.frame.DataFrame'>\n",
      "RangeIndex: 45466 entries, 0 to 45465\n",
      "Data columns (total 24 columns):\n",
      " #   Column                 Non-Null Count  Dtype  \n",
      "---  ------                 --------------  -----  \n",
      " 0   adult                  45466 non-null  object \n",
      " 1   belongs_to_collection  4494 non-null   object \n",
      " 2   budget                 45466 non-null  object \n",
      " 3   genres                 45466 non-null  object \n",
      " 4   homepage               7782 non-null   object \n",
      " 5   id                     45466 non-null  object \n",
      " 6   imdb_id                45449 non-null  object \n",
      " 7   original_language      45455 non-null  object \n",
      " 8   original_title         45466 non-null  object \n",
      " 9   overview               44512 non-null  object \n",
      " 10  popularity             45461 non-null  object \n",
      " 11  poster_path            45080 non-null  object \n",
      " 12  production_companies   45463 non-null  object \n",
      " 13  production_countries   45463 non-null  object \n",
      " 14  release_date           45379 non-null  object \n",
      " 15  revenue                45460 non-null  float64\n",
      " 16  runtime                45203 non-null  float64\n",
      " 17  spoken_languages       45460 non-null  object \n",
      " 18  status                 45379 non-null  object \n",
      " 19  tagline                20412 non-null  object \n",
      " 20  title                  45460 non-null  object \n",
      " 21  video                  45460 non-null  object \n",
      " 22  vote_average           45460 non-null  float64\n",
      " 23  vote_count             45460 non-null  float64\n",
      "dtypes: float64(4), object(20)\n",
      "memory usage: 8.3+ MB\n"
     ]
    }
   ],
   "source": [
    "# Consulto el tipo de dato de cada columna.\n",
    "df_movies.info()"
   ]
  },
  {
   "cell_type": "code",
   "execution_count": 15,
   "metadata": {},
   "outputs": [],
   "source": [
    "def clean(df,column):\n",
    "    df.dropna(subset=[column], inplace=True)\n",
    "\n",
    "    formato_comun = df[column].str.isdigit().mean() > 0.3  # Ejemplo: si más del 50% de los valores son dígitos\n",
    "\n",
    "    # Filtrar los valores que no tienen el formato común\n",
    "    valores_atipicos = df_movies.loc[~df[column].str.isdigit() if formato_comun else df[column].str.isdigit()]\n",
    "\n",
    "    # Imprimir los valores atípicos\n",
    "    print(valores_atipicos[column].tolist())"
   ]
  },
  {
   "cell_type": "code",
   "execution_count": 16,
   "metadata": {},
   "outputs": [
    {
     "name": "stdout",
     "output_type": "stream",
     "text": [
      "adult\n",
      "[]\n",
      "belongs_to_collection\n",
      "[]\n",
      "budget\n",
      "['/zaSf5OG7V8X8gqFvly88zDdRm46.jpg']\n",
      "genres\n",
      "[]\n",
      "homepage\n",
      "[]\n",
      "id\n",
      "['2014-01-01']\n",
      "imdb_id\n",
      "['0']\n",
      "original_language\n",
      "[]\n",
      "original_title\n",
      "['2046', '300']\n",
      "overview\n",
      "[]\n",
      "popularity\n"
     ]
    },
    {
     "ename": "ValueError",
     "evalue": "Cannot mask with non-boolean array containing NA / NaN values",
     "output_type": "error",
     "traceback": [
      "\u001b[1;31m---------------------------------------------------------------------------\u001b[0m",
      "\u001b[1;31mValueError\u001b[0m                                Traceback (most recent call last)",
      "\u001b[1;32mh:\\Repositorios\\repositorio-henry\\Api_proyect\\ETL.ipynb Cell 6\u001b[0m in \u001b[0;36m<cell line: 1>\u001b[1;34m()\u001b[0m\n\u001b[0;32m      <a href='vscode-notebook-cell:/h%3A/Repositorios/repositorio-henry/Api_proyect/ETL.ipynb#Y114sZmlsZQ%3D%3D?line=0'>1</a>\u001b[0m \u001b[39mfor\u001b[39;00m a \u001b[39min\u001b[39;00m df_movies\u001b[39m.\u001b[39mcolumns:\n\u001b[0;32m      <a href='vscode-notebook-cell:/h%3A/Repositorios/repositorio-henry/Api_proyect/ETL.ipynb#Y114sZmlsZQ%3D%3D?line=1'>2</a>\u001b[0m     \u001b[39mprint\u001b[39m(a)\n\u001b[1;32m----> <a href='vscode-notebook-cell:/h%3A/Repositorios/repositorio-henry/Api_proyect/ETL.ipynb#Y114sZmlsZQ%3D%3D?line=2'>3</a>\u001b[0m     clean(df_movies,a)\n",
      "\u001b[1;32mh:\\Repositorios\\repositorio-henry\\Api_proyect\\ETL.ipynb Cell 6\u001b[0m in \u001b[0;36mclean\u001b[1;34m(df, column)\u001b[0m\n\u001b[0;32m      <a href='vscode-notebook-cell:/h%3A/Repositorios/repositorio-henry/Api_proyect/ETL.ipynb#Y114sZmlsZQ%3D%3D?line=3'>4</a>\u001b[0m formato_comun \u001b[39m=\u001b[39m df[column]\u001b[39m.\u001b[39mstr\u001b[39m.\u001b[39misdigit()\u001b[39m.\u001b[39mmean() \u001b[39m>\u001b[39m \u001b[39m0.3\u001b[39m  \u001b[39m# Ejemplo: si más del 50% de los valores son dígitos\u001b[39;00m\n\u001b[0;32m      <a href='vscode-notebook-cell:/h%3A/Repositorios/repositorio-henry/Api_proyect/ETL.ipynb#Y114sZmlsZQ%3D%3D?line=5'>6</a>\u001b[0m \u001b[39m# Filtrar los valores que no tienen el formato común\u001b[39;00m\n\u001b[1;32m----> <a href='vscode-notebook-cell:/h%3A/Repositorios/repositorio-henry/Api_proyect/ETL.ipynb#Y114sZmlsZQ%3D%3D?line=6'>7</a>\u001b[0m valores_atipicos \u001b[39m=\u001b[39m df_movies\u001b[39m.\u001b[39;49mloc[\u001b[39m~\u001b[39;49mdf[column]\u001b[39m.\u001b[39;49mstr\u001b[39m.\u001b[39;49misdigit() \u001b[39mif\u001b[39;49;00m formato_comun \u001b[39melse\u001b[39;49;00m df[column]\u001b[39m.\u001b[39;49mstr\u001b[39m.\u001b[39;49misdigit()]\n\u001b[0;32m      <a href='vscode-notebook-cell:/h%3A/Repositorios/repositorio-henry/Api_proyect/ETL.ipynb#Y114sZmlsZQ%3D%3D?line=8'>9</a>\u001b[0m \u001b[39m# Imprimir los valores atípicos\u001b[39;00m\n\u001b[0;32m     <a href='vscode-notebook-cell:/h%3A/Repositorios/repositorio-henry/Api_proyect/ETL.ipynb#Y114sZmlsZQ%3D%3D?line=9'>10</a>\u001b[0m \u001b[39mprint\u001b[39m(valores_atipicos[column]\u001b[39m.\u001b[39mtolist())\n",
      "File \u001b[1;32mc:\\Users\\Guille\\anaconda3\\envs\\soyhenry\\lib\\site-packages\\pandas\\core\\indexing.py:1073\u001b[0m, in \u001b[0;36m_LocationIndexer.__getitem__\u001b[1;34m(self, key)\u001b[0m\n\u001b[0;32m   1070\u001b[0m axis \u001b[39m=\u001b[39m \u001b[39mself\u001b[39m\u001b[39m.\u001b[39maxis \u001b[39mor\u001b[39;00m \u001b[39m0\u001b[39m\n\u001b[0;32m   1072\u001b[0m maybe_callable \u001b[39m=\u001b[39m com\u001b[39m.\u001b[39mapply_if_callable(key, \u001b[39mself\u001b[39m\u001b[39m.\u001b[39mobj)\n\u001b[1;32m-> 1073\u001b[0m \u001b[39mreturn\u001b[39;00m \u001b[39mself\u001b[39;49m\u001b[39m.\u001b[39;49m_getitem_axis(maybe_callable, axis\u001b[39m=\u001b[39;49maxis)\n",
      "File \u001b[1;32mc:\\Users\\Guille\\anaconda3\\envs\\soyhenry\\lib\\site-packages\\pandas\\core\\indexing.py:1291\u001b[0m, in \u001b[0;36m_LocIndexer._getitem_axis\u001b[1;34m(self, key, axis)\u001b[0m\n\u001b[0;32m   1289\u001b[0m     \u001b[39mself\u001b[39m\u001b[39m.\u001b[39m_validate_key(key, axis)\n\u001b[0;32m   1290\u001b[0m     \u001b[39mreturn\u001b[39;00m \u001b[39mself\u001b[39m\u001b[39m.\u001b[39m_get_slice_axis(key, axis\u001b[39m=\u001b[39maxis)\n\u001b[1;32m-> 1291\u001b[0m \u001b[39melif\u001b[39;00m com\u001b[39m.\u001b[39;49mis_bool_indexer(key):\n\u001b[0;32m   1292\u001b[0m     \u001b[39mreturn\u001b[39;00m \u001b[39mself\u001b[39m\u001b[39m.\u001b[39m_getbool_axis(key, axis\u001b[39m=\u001b[39maxis)\n\u001b[0;32m   1293\u001b[0m \u001b[39melif\u001b[39;00m is_list_like_indexer(key):\n\u001b[0;32m   1294\u001b[0m \n\u001b[0;32m   1295\u001b[0m     \u001b[39m# an iterable multi-selection\u001b[39;00m\n",
      "File \u001b[1;32mc:\\Users\\Guille\\anaconda3\\envs\\soyhenry\\lib\\site-packages\\pandas\\core\\common.py:135\u001b[0m, in \u001b[0;36mis_bool_indexer\u001b[1;34m(key)\u001b[0m\n\u001b[0;32m    131\u001b[0m     na_msg \u001b[39m=\u001b[39m \u001b[39m\"\u001b[39m\u001b[39mCannot mask with non-boolean array containing NA / NaN values\u001b[39m\u001b[39m\"\u001b[39m\n\u001b[0;32m    132\u001b[0m     \u001b[39mif\u001b[39;00m lib\u001b[39m.\u001b[39minfer_dtype(key_array) \u001b[39m==\u001b[39m \u001b[39m\"\u001b[39m\u001b[39mboolean\u001b[39m\u001b[39m\"\u001b[39m \u001b[39mand\u001b[39;00m isna(key_array)\u001b[39m.\u001b[39many():\n\u001b[0;32m    133\u001b[0m         \u001b[39m# Don't raise on e.g. [\"A\", \"B\", np.nan], see\u001b[39;00m\n\u001b[0;32m    134\u001b[0m         \u001b[39m#  test_loc_getitem_list_of_labels_categoricalindex_with_na\u001b[39;00m\n\u001b[1;32m--> 135\u001b[0m         \u001b[39mraise\u001b[39;00m \u001b[39mValueError\u001b[39;00m(na_msg)\n\u001b[0;32m    136\u001b[0m     \u001b[39mreturn\u001b[39;00m \u001b[39mFalse\u001b[39;00m\n\u001b[0;32m    137\u001b[0m \u001b[39mreturn\u001b[39;00m \u001b[39mTrue\u001b[39;00m\n",
      "\u001b[1;31mValueError\u001b[0m: Cannot mask with non-boolean array containing NA / NaN values"
     ]
    }
   ],
   "source": [
    "for a in df_movies.columns:\n",
    "    print(a)\n",
    "    clean(df_movies,a)"
   ]
  },
  {
   "attachments": {},
   "cell_type": "markdown",
   "metadata": {},
   "source": [
    "CAMBIOS OBLIGATORIOS"
   ]
  },
  {
   "cell_type": "code",
   "execution_count": 36,
   "metadata": {},
   "outputs": [],
   "source": [
    "# Se crea una variable del tipo lista llamada 'columns' en la cual se carga los nombres de las columnas a tratar en el siguente codigo.\n",
    "columns = ['revenue','budget']\n",
    "# se utiliza la funcion fillna() para reemplazar los valores nulos por el numero entero 0.\n",
    "df_movies[columns] = df_movies[columns].fillna(0)\n",
    "\n",
    "#df_movies['release_date'] = df_movies['release_date'].fillna('no_release_date')\n",
    "df_movies.dropna(subset=['release_date'], inplace=True)\n",
    "\n",
    "enteros = ['1','12','22']\n",
    "for a in enteros:\n",
    "    df_movies = df_movies.drop(df_movies[df_movies['release_date'] == a].index)\n",
    "\n",
    "df_movies['release_date'] = pd.to_datetime(df_movies['release_date'], format='%Y-%m-%d')\n",
    "\n",
    "df_movies['release_year'] = df_movies['release_date'].dt.year\n",
    "\n",
    "list_convert = ['revenue','budget']\n",
    "df_movies[list_convert] = df_movies[list_convert].astype(float)\n",
    "\n",
    "df_movies['return'] = np.where((df_movies['revenue'] != 0) & (df_movies['budget'] != 0), df_movies['revenue'] / df_movies['budget'], 0)\n",
    "\n",
    "df_movies.drop(['video','imdb_id','adult','original_title','poster_path','homepage'],axis=1,inplace=True)"
   ]
  },
  {
   "attachments": {},
   "cell_type": "markdown",
   "metadata": {},
   "source": [
    "***"
   ]
  },
  {
   "attachments": {},
   "cell_type": "markdown",
   "metadata": {},
   "source": [
    "CONVERSION DE TIPO DE VARIABLES"
   ]
  },
  {
   "cell_type": "code",
   "execution_count": 37,
   "metadata": {},
   "outputs": [],
   "source": [
    "df_movies[['popularity']] = df_movies[['popularity']].astype(float)\n",
    "df_movies['id'] = df_movies['id'].astype(int)"
   ]
  },
  {
   "cell_type": "code",
   "execution_count": 38,
   "metadata": {},
   "outputs": [
    {
     "name": "stdout",
     "output_type": "stream",
     "text": [
      "['belongs_to_collection', 'genres', 'original_language', 'overview', 'production_companies', 'production_countries', 'spoken_languages', 'status', 'title']\n"
     ]
    },
    {
     "data": {
      "text/html": [
       "<div>\n",
       "<style scoped>\n",
       "    .dataframe tbody tr th:only-of-type {\n",
       "        vertical-align: middle;\n",
       "    }\n",
       "\n",
       "    .dataframe tbody tr th {\n",
       "        vertical-align: top;\n",
       "    }\n",
       "\n",
       "    .dataframe thead th {\n",
       "        text-align: right;\n",
       "    }\n",
       "</style>\n",
       "<table border=\"1\" class=\"dataframe\">\n",
       "  <thead>\n",
       "    <tr style=\"text-align: right;\">\n",
       "      <th></th>\n",
       "      <th>belongs_to_collection</th>\n",
       "      <th>genres</th>\n",
       "      <th>original_language</th>\n",
       "      <th>overview</th>\n",
       "      <th>production_companies</th>\n",
       "      <th>production_countries</th>\n",
       "      <th>spoken_languages</th>\n",
       "      <th>status</th>\n",
       "      <th>title</th>\n",
       "    </tr>\n",
       "  </thead>\n",
       "  <tbody>\n",
       "    <tr>\n",
       "      <th>0</th>\n",
       "      <td>{'id': 10194, 'name': 'Toy Story Collection', ...</td>\n",
       "      <td>[{'id': 16, 'name': 'Animation'}, {'id': 35, '...</td>\n",
       "      <td>en</td>\n",
       "      <td>Led by Woody, Andy's toys live happily in his ...</td>\n",
       "      <td>[{'name': 'Pixar Animation Studios', 'id': 3}]</td>\n",
       "      <td>[{'iso_3166_1': 'US', 'name': 'United States o...</td>\n",
       "      <td>[{'iso_639_1': 'en', 'name': 'English'}]</td>\n",
       "      <td>Released</td>\n",
       "      <td>Toy Story</td>\n",
       "    </tr>\n",
       "    <tr>\n",
       "      <th>1</th>\n",
       "      <td>NaN</td>\n",
       "      <td>[{'id': 12, 'name': 'Adventure'}, {'id': 14, '...</td>\n",
       "      <td>en</td>\n",
       "      <td>When siblings Judy and Peter discover an encha...</td>\n",
       "      <td>[{'name': 'TriStar Pictures', 'id': 559}, {'na...</td>\n",
       "      <td>[{'iso_3166_1': 'US', 'name': 'United States o...</td>\n",
       "      <td>[{'iso_639_1': 'en', 'name': 'English'}, {'iso...</td>\n",
       "      <td>Released</td>\n",
       "      <td>Jumanji</td>\n",
       "    </tr>\n",
       "  </tbody>\n",
       "</table>\n",
       "</div>"
      ],
      "text/plain": [
       "                               belongs_to_collection  \\\n",
       "0  {'id': 10194, 'name': 'Toy Story Collection', ...   \n",
       "1                                                NaN   \n",
       "\n",
       "                                              genres original_language  \\\n",
       "0  [{'id': 16, 'name': 'Animation'}, {'id': 35, '...                en   \n",
       "1  [{'id': 12, 'name': 'Adventure'}, {'id': 14, '...                en   \n",
       "\n",
       "                                            overview  \\\n",
       "0  Led by Woody, Andy's toys live happily in his ...   \n",
       "1  When siblings Judy and Peter discover an encha...   \n",
       "\n",
       "                                production_companies  \\\n",
       "0     [{'name': 'Pixar Animation Studios', 'id': 3}]   \n",
       "1  [{'name': 'TriStar Pictures', 'id': 559}, {'na...   \n",
       "\n",
       "                                production_countries  \\\n",
       "0  [{'iso_3166_1': 'US', 'name': 'United States o...   \n",
       "1  [{'iso_3166_1': 'US', 'name': 'United States o...   \n",
       "\n",
       "                                    spoken_languages    status      title  \n",
       "0           [{'iso_639_1': 'en', 'name': 'English'}]  Released  Toy Story  \n",
       "1  [{'iso_639_1': 'en', 'name': 'English'}, {'iso...  Released    Jumanji  "
      ]
     },
     "execution_count": 38,
     "metadata": {},
     "output_type": "execute_result"
    }
   ],
   "source": [
    "\n",
    "# creo un ciclo for que conprueba si los primeros valores de cada columna son del tipo string\n",
    "columnas_texto = []\n",
    "for columna in df_movies.columns:\n",
    "    if isinstance(df_movies[columna][0], str):\n",
    "        columnas_texto.append(columna)\n",
    "\n",
    "# Muestra la lista con los nombres de las columnas que contienen \n",
    "print(columnas_texto)\n",
    "\n",
    "# Analizo las columnas y sis valores\n",
    "df_movies[columnas_texto].head(2)\n"
   ]
  },
  {
   "attachments": {},
   "cell_type": "markdown",
   "metadata": {},
   "source": [
    "Se observan en cada valor de algunas columnas que ahi esctructuras de listas de diccioonarios pero almacenadas como texto\n",
    "Se procede a convertir los valores al tipo de dato correcto para por utilizar de mejor forma la informacion"
   ]
  },
  {
   "cell_type": "code",
   "execution_count": 39,
   "metadata": {},
   "outputs": [],
   "source": [
    "lista_columnas_texto = ['belongs_to_collection','genres','production_companies','production_countries','spoken_languages']"
   ]
  },
  {
   "cell_type": "code",
   "execution_count": 40,
   "metadata": {},
   "outputs": [],
   "source": [
    "# Funcion que utiliza a su vez la funcion eval()\n",
    "def convert_to_dicc(text):\n",
    "    return eval(text)\n",
    "\n",
    "for a in lista_columnas_texto:\n",
    "    df_movies[a] = df_movies[a].fillna('None')\n",
    "    df_movies[a] = df_movies[a].apply(convert_to_dicc)"
   ]
  },
  {
   "cell_type": "code",
   "execution_count": 41,
   "metadata": {},
   "outputs": [
    {
     "name": "stdout",
     "output_type": "stream",
     "text": [
      "['belongs_to_collection', 'genres', 'production_companies', 'production_countries', 'spoken_languages']\n"
     ]
    },
    {
     "data": {
      "text/html": [
       "<div>\n",
       "<style scoped>\n",
       "    .dataframe tbody tr th:only-of-type {\n",
       "        vertical-align: middle;\n",
       "    }\n",
       "\n",
       "    .dataframe tbody tr th {\n",
       "        vertical-align: top;\n",
       "    }\n",
       "\n",
       "    .dataframe thead th {\n",
       "        text-align: right;\n",
       "    }\n",
       "</style>\n",
       "<table border=\"1\" class=\"dataframe\">\n",
       "  <thead>\n",
       "    <tr style=\"text-align: right;\">\n",
       "      <th></th>\n",
       "      <th>belongs_to_collection</th>\n",
       "      <th>genres</th>\n",
       "      <th>production_companies</th>\n",
       "      <th>production_countries</th>\n",
       "      <th>spoken_languages</th>\n",
       "    </tr>\n",
       "  </thead>\n",
       "  <tbody>\n",
       "    <tr>\n",
       "      <th>0</th>\n",
       "      <td>{'id': 10194, 'name': 'Toy Story Collection', ...</td>\n",
       "      <td>[{'id': 16, 'name': 'Animation'}, {'id': 35, '...</td>\n",
       "      <td>[{'name': 'Pixar Animation Studios', 'id': 3}]</td>\n",
       "      <td>[{'iso_3166_1': 'US', 'name': 'United States o...</td>\n",
       "      <td>[{'iso_639_1': 'en', 'name': 'English'}]</td>\n",
       "    </tr>\n",
       "    <tr>\n",
       "      <th>1</th>\n",
       "      <td>None</td>\n",
       "      <td>[{'id': 12, 'name': 'Adventure'}, {'id': 14, '...</td>\n",
       "      <td>[{'name': 'TriStar Pictures', 'id': 559}, {'na...</td>\n",
       "      <td>[{'iso_3166_1': 'US', 'name': 'United States o...</td>\n",
       "      <td>[{'iso_639_1': 'en', 'name': 'English'}, {'iso...</td>\n",
       "    </tr>\n",
       "  </tbody>\n",
       "</table>\n",
       "</div>"
      ],
      "text/plain": [
       "                               belongs_to_collection  \\\n",
       "0  {'id': 10194, 'name': 'Toy Story Collection', ...   \n",
       "1                                               None   \n",
       "\n",
       "                                              genres  \\\n",
       "0  [{'id': 16, 'name': 'Animation'}, {'id': 35, '...   \n",
       "1  [{'id': 12, 'name': 'Adventure'}, {'id': 14, '...   \n",
       "\n",
       "                                production_companies  \\\n",
       "0     [{'name': 'Pixar Animation Studios', 'id': 3}]   \n",
       "1  [{'name': 'TriStar Pictures', 'id': 559}, {'na...   \n",
       "\n",
       "                                production_countries  \\\n",
       "0  [{'iso_3166_1': 'US', 'name': 'United States o...   \n",
       "1  [{'iso_3166_1': 'US', 'name': 'United States o...   \n",
       "\n",
       "                                    spoken_languages  \n",
       "0           [{'iso_639_1': 'en', 'name': 'English'}]  \n",
       "1  [{'iso_639_1': 'en', 'name': 'English'}, {'iso...  "
      ]
     },
     "execution_count": 41,
     "metadata": {},
     "output_type": "execute_result"
    }
   ],
   "source": [
    "# creo un ciclo for que comprueba si los primeros valores de cada columna son del tipo list\n",
    "columnas = []\n",
    "for columna in df_movies.columns:\n",
    "    primer_valor = df_movies[columna][0]\n",
    "    if type(primer_valor) == list or type(primer_valor) == dict:\n",
    "        columnas.append(columna)\n",
    "\n",
    "# Muestra la lista con los nombres de las columnas que contienen \n",
    "print(columnas)\n",
    "df_movies[columnas].head(2)"
   ]
  },
  {
   "cell_type": "code",
   "execution_count": 42,
   "metadata": {},
   "outputs": [
    {
     "data": {
      "text/html": [
       "<div>\n",
       "<style scoped>\n",
       "    .dataframe tbody tr th:only-of-type {\n",
       "        vertical-align: middle;\n",
       "    }\n",
       "\n",
       "    .dataframe tbody tr th {\n",
       "        vertical-align: top;\n",
       "    }\n",
       "\n",
       "    .dataframe thead th {\n",
       "        text-align: right;\n",
       "    }\n",
       "</style>\n",
       "<table border=\"1\" class=\"dataframe\">\n",
       "  <thead>\n",
       "    <tr style=\"text-align: right;\">\n",
       "      <th></th>\n",
       "      <th>belongs_to_collection</th>\n",
       "      <th>genres</th>\n",
       "      <th>production_companies</th>\n",
       "      <th>production_countries</th>\n",
       "      <th>spoken_languages</th>\n",
       "    </tr>\n",
       "  </thead>\n",
       "  <tbody>\n",
       "    <tr>\n",
       "      <th>0</th>\n",
       "      <td>Toy Story Collection</td>\n",
       "      <td>[Animation, Comedy, Family]</td>\n",
       "      <td>[Pixar Animation Studios]</td>\n",
       "      <td>[United States of America]</td>\n",
       "      <td>[English]</td>\n",
       "    </tr>\n",
       "    <tr>\n",
       "      <th>1</th>\n",
       "      <td>None</td>\n",
       "      <td>[Adventure, Fantasy, Family]</td>\n",
       "      <td>[TriStar Pictures, Teitler Film, Interscope Co...</td>\n",
       "      <td>[United States of America]</td>\n",
       "      <td>[English, Français]</td>\n",
       "    </tr>\n",
       "    <tr>\n",
       "      <th>2</th>\n",
       "      <td>Grumpy Old Men Collection</td>\n",
       "      <td>[Romance, Comedy]</td>\n",
       "      <td>[Warner Bros., Lancaster Gate]</td>\n",
       "      <td>[United States of America]</td>\n",
       "      <td>[English]</td>\n",
       "    </tr>\n",
       "    <tr>\n",
       "      <th>3</th>\n",
       "      <td>None</td>\n",
       "      <td>[Comedy, Drama, Romance]</td>\n",
       "      <td>[Twentieth Century Fox Film Corporation]</td>\n",
       "      <td>[United States of America]</td>\n",
       "      <td>[English]</td>\n",
       "    </tr>\n",
       "    <tr>\n",
       "      <th>4</th>\n",
       "      <td>Father of the Bride Collection</td>\n",
       "      <td>[Comedy]</td>\n",
       "      <td>[Sandollar Productions, Touchstone Pictures]</td>\n",
       "      <td>[United States of America]</td>\n",
       "      <td>[English]</td>\n",
       "    </tr>\n",
       "  </tbody>\n",
       "</table>\n",
       "</div>"
      ],
      "text/plain": [
       "            belongs_to_collection                        genres  \\\n",
       "0            Toy Story Collection   [Animation, Comedy, Family]   \n",
       "1                            None  [Adventure, Fantasy, Family]   \n",
       "2       Grumpy Old Men Collection             [Romance, Comedy]   \n",
       "3                            None      [Comedy, Drama, Romance]   \n",
       "4  Father of the Bride Collection                      [Comedy]   \n",
       "\n",
       "                                production_companies  \\\n",
       "0                          [Pixar Animation Studios]   \n",
       "1  [TriStar Pictures, Teitler Film, Interscope Co...   \n",
       "2                     [Warner Bros., Lancaster Gate]   \n",
       "3           [Twentieth Century Fox Film Corporation]   \n",
       "4       [Sandollar Productions, Touchstone Pictures]   \n",
       "\n",
       "         production_countries     spoken_languages  \n",
       "0  [United States of America]            [English]  \n",
       "1  [United States of America]  [English, Français]  \n",
       "2  [United States of America]            [English]  \n",
       "3  [United States of America]            [English]  \n",
       "4  [United States of America]            [English]  "
      ]
     },
     "execution_count": 42,
     "metadata": {},
     "output_type": "execute_result"
    }
   ],
   "source": [
    "def extract_name(list_dict):\n",
    "    if type(list_dict) == list and len(list_dict) > 0:\n",
    "        list_temp = []\n",
    "        for dicc in list_dict:\n",
    "            list_temp.append(dicc['name'])\n",
    "        return list_temp\n",
    "    if type(list_dict) == dict:\n",
    "        return list_dict['name']\n",
    "    else:\n",
    "        return None\n",
    "    \n",
    "for column in lista_columnas_texto:\n",
    "    df_movies[column] = df_movies[column].apply(extract_name)\n",
    "\n",
    "df_movies[lista_columnas_texto].head()"
   ]
  },
  {
   "cell_type": "code",
   "execution_count": 44,
   "metadata": {},
   "outputs": [],
   "source": [
    "# Establesco la columna id como indice antes cambiandole el nombre a 'IdMovie'\n",
    "columna_id = df_movies['id']\n",
    "df_movies.drop('id',inplace=True,axis=1)\n",
    "df_movies.insert(0, 'IdMovie', columna_id)\n",
    "df_movies = df_movies.sort_values('IdMovie')\n",
    "df_movies = df_movies.set_index('IdMovie')"
   ]
  },
  {
   "cell_type": "code",
   "execution_count": 45,
   "metadata": {},
   "outputs": [
    {
     "data": {
      "text/html": [
       "<div>\n",
       "<style scoped>\n",
       "    .dataframe tbody tr th:only-of-type {\n",
       "        vertical-align: middle;\n",
       "    }\n",
       "\n",
       "    .dataframe tbody tr th {\n",
       "        vertical-align: top;\n",
       "    }\n",
       "\n",
       "    .dataframe thead th {\n",
       "        text-align: right;\n",
       "    }\n",
       "</style>\n",
       "<table border=\"1\" class=\"dataframe\">\n",
       "  <thead>\n",
       "    <tr style=\"text-align: right;\">\n",
       "      <th></th>\n",
       "      <th>belongs_to_collection</th>\n",
       "      <th>budget</th>\n",
       "      <th>genres</th>\n",
       "      <th>original_language</th>\n",
       "      <th>overview</th>\n",
       "      <th>popularity</th>\n",
       "      <th>production_companies</th>\n",
       "      <th>production_countries</th>\n",
       "      <th>release_date</th>\n",
       "      <th>revenue</th>\n",
       "      <th>runtime</th>\n",
       "      <th>spoken_languages</th>\n",
       "      <th>status</th>\n",
       "      <th>tagline</th>\n",
       "      <th>title</th>\n",
       "      <th>vote_average</th>\n",
       "      <th>vote_count</th>\n",
       "      <th>release_year</th>\n",
       "      <th>return</th>\n",
       "    </tr>\n",
       "    <tr>\n",
       "      <th>IdMovie</th>\n",
       "      <th></th>\n",
       "      <th></th>\n",
       "      <th></th>\n",
       "      <th></th>\n",
       "      <th></th>\n",
       "      <th></th>\n",
       "      <th></th>\n",
       "      <th></th>\n",
       "      <th></th>\n",
       "      <th></th>\n",
       "      <th></th>\n",
       "      <th></th>\n",
       "      <th></th>\n",
       "      <th></th>\n",
       "      <th></th>\n",
       "      <th></th>\n",
       "      <th></th>\n",
       "      <th></th>\n",
       "      <th></th>\n",
       "    </tr>\n",
       "  </thead>\n",
       "  <tbody>\n",
       "    <tr>\n",
       "      <th>2</th>\n",
       "      <td>None</td>\n",
       "      <td>0.0</td>\n",
       "      <td>[Drama, Crime]</td>\n",
       "      <td>fi</td>\n",
       "      <td>Taisto Kasurinen is a Finnish coal miner whose...</td>\n",
       "      <td>3.860491</td>\n",
       "      <td>[Villealfa Filmproduction Oy, Finnish Film Fou...</td>\n",
       "      <td>[Finland]</td>\n",
       "      <td>1988-10-21</td>\n",
       "      <td>0.0</td>\n",
       "      <td>69.0</td>\n",
       "      <td>[suomi, Deutsch]</td>\n",
       "      <td>Released</td>\n",
       "      <td>NaN</td>\n",
       "      <td>Ariel</td>\n",
       "      <td>7.1</td>\n",
       "      <td>44.0</td>\n",
       "      <td>1988</td>\n",
       "      <td>0.000</td>\n",
       "    </tr>\n",
       "    <tr>\n",
       "      <th>3</th>\n",
       "      <td>None</td>\n",
       "      <td>0.0</td>\n",
       "      <td>[Drama, Comedy]</td>\n",
       "      <td>fi</td>\n",
       "      <td>An episode in the life of Nikander, a garbage ...</td>\n",
       "      <td>2.292110</td>\n",
       "      <td>[Villealfa Filmproduction Oy]</td>\n",
       "      <td>[Finland]</td>\n",
       "      <td>1986-10-16</td>\n",
       "      <td>0.0</td>\n",
       "      <td>76.0</td>\n",
       "      <td>[English, suomi, svenska]</td>\n",
       "      <td>Released</td>\n",
       "      <td>NaN</td>\n",
       "      <td>Shadows in Paradise</td>\n",
       "      <td>7.1</td>\n",
       "      <td>35.0</td>\n",
       "      <td>1986</td>\n",
       "      <td>0.000</td>\n",
       "    </tr>\n",
       "    <tr>\n",
       "      <th>5</th>\n",
       "      <td>None</td>\n",
       "      <td>4000000.0</td>\n",
       "      <td>[Crime, Comedy]</td>\n",
       "      <td>en</td>\n",
       "      <td>It's Ted the Bellhop's first night on the job....</td>\n",
       "      <td>9.026586</td>\n",
       "      <td>[Miramax Films, A Band Apart]</td>\n",
       "      <td>[United States of America]</td>\n",
       "      <td>1995-12-09</td>\n",
       "      <td>4300000.0</td>\n",
       "      <td>98.0</td>\n",
       "      <td>[English]</td>\n",
       "      <td>Released</td>\n",
       "      <td>Twelve outrageous guests. Four scandalous requ...</td>\n",
       "      <td>Four Rooms</td>\n",
       "      <td>6.5</td>\n",
       "      <td>539.0</td>\n",
       "      <td>1995</td>\n",
       "      <td>1.075</td>\n",
       "    </tr>\n",
       "  </tbody>\n",
       "</table>\n",
       "</div>"
      ],
      "text/plain": [
       "        belongs_to_collection     budget           genres original_language  \\\n",
       "IdMovie                                                                       \n",
       "2                        None        0.0   [Drama, Crime]                fi   \n",
       "3                        None        0.0  [Drama, Comedy]                fi   \n",
       "5                        None  4000000.0  [Crime, Comedy]                en   \n",
       "\n",
       "                                                  overview  popularity  \\\n",
       "IdMovie                                                                  \n",
       "2        Taisto Kasurinen is a Finnish coal miner whose...    3.860491   \n",
       "3        An episode in the life of Nikander, a garbage ...    2.292110   \n",
       "5        It's Ted the Bellhop's first night on the job....    9.026586   \n",
       "\n",
       "                                      production_companies  \\\n",
       "IdMovie                                                      \n",
       "2        [Villealfa Filmproduction Oy, Finnish Film Fou...   \n",
       "3                            [Villealfa Filmproduction Oy]   \n",
       "5                            [Miramax Films, A Band Apart]   \n",
       "\n",
       "               production_countries release_date    revenue  runtime  \\\n",
       "IdMovie                                                                \n",
       "2                         [Finland]   1988-10-21        0.0     69.0   \n",
       "3                         [Finland]   1986-10-16        0.0     76.0   \n",
       "5        [United States of America]   1995-12-09  4300000.0     98.0   \n",
       "\n",
       "                  spoken_languages    status  \\\n",
       "IdMovie                                        \n",
       "2                 [suomi, Deutsch]  Released   \n",
       "3        [English, suomi, svenska]  Released   \n",
       "5                        [English]  Released   \n",
       "\n",
       "                                                   tagline  \\\n",
       "IdMovie                                                      \n",
       "2                                                      NaN   \n",
       "3                                                      NaN   \n",
       "5        Twelve outrageous guests. Four scandalous requ...   \n",
       "\n",
       "                       title  vote_average  vote_count  release_year  return  \n",
       "IdMovie                                                                       \n",
       "2                      Ariel           7.1        44.0          1988   0.000  \n",
       "3        Shadows in Paradise           7.1        35.0          1986   0.000  \n",
       "5                 Four Rooms           6.5       539.0          1995   1.075  "
      ]
     },
     "execution_count": 45,
     "metadata": {},
     "output_type": "execute_result"
    }
   ],
   "source": [
    "df_movies.head(3)"
   ]
  },
  {
   "attachments": {},
   "cell_type": "markdown",
   "metadata": {},
   "source": [
    "***"
   ]
  },
  {
   "attachments": {},
   "cell_type": "markdown",
   "metadata": {},
   "source": [
    "CSV CREDITS"
   ]
  },
  {
   "cell_type": "code",
   "execution_count": 50,
   "metadata": {},
   "outputs": [
    {
     "data": {
      "text/html": [
       "<div>\n",
       "<style scoped>\n",
       "    .dataframe tbody tr th:only-of-type {\n",
       "        vertical-align: middle;\n",
       "    }\n",
       "\n",
       "    .dataframe tbody tr th {\n",
       "        vertical-align: top;\n",
       "    }\n",
       "\n",
       "    .dataframe thead th {\n",
       "        text-align: right;\n",
       "    }\n",
       "</style>\n",
       "<table border=\"1\" class=\"dataframe\">\n",
       "  <thead>\n",
       "    <tr style=\"text-align: right;\">\n",
       "      <th></th>\n",
       "      <th>cast</th>\n",
       "      <th>crew</th>\n",
       "      <th>id</th>\n",
       "    </tr>\n",
       "  </thead>\n",
       "  <tbody>\n",
       "    <tr>\n",
       "      <th>0</th>\n",
       "      <td>[{'cast_id': 14, 'character': 'Woody (voice)',...</td>\n",
       "      <td>[{'credit_id': '52fe4284c3a36847f8024f49', 'de...</td>\n",
       "      <td>862</td>\n",
       "    </tr>\n",
       "    <tr>\n",
       "      <th>1</th>\n",
       "      <td>[{'cast_id': 1, 'character': 'Alan Parrish', '...</td>\n",
       "      <td>[{'credit_id': '52fe44bfc3a36847f80a7cd1', 'de...</td>\n",
       "      <td>8844</td>\n",
       "    </tr>\n",
       "    <tr>\n",
       "      <th>2</th>\n",
       "      <td>[{'cast_id': 2, 'character': 'Max Goldman', 'c...</td>\n",
       "      <td>[{'credit_id': '52fe466a9251416c75077a89', 'de...</td>\n",
       "      <td>15602</td>\n",
       "    </tr>\n",
       "    <tr>\n",
       "      <th>3</th>\n",
       "      <td>[{'cast_id': 1, 'character': \"Savannah 'Vannah...</td>\n",
       "      <td>[{'credit_id': '52fe44779251416c91011acb', 'de...</td>\n",
       "      <td>31357</td>\n",
       "    </tr>\n",
       "    <tr>\n",
       "      <th>4</th>\n",
       "      <td>[{'cast_id': 1, 'character': 'George Banks', '...</td>\n",
       "      <td>[{'credit_id': '52fe44959251416c75039ed7', 'de...</td>\n",
       "      <td>11862</td>\n",
       "    </tr>\n",
       "  </tbody>\n",
       "</table>\n",
       "</div>"
      ],
      "text/plain": [
       "                                                cast  \\\n",
       "0  [{'cast_id': 14, 'character': 'Woody (voice)',...   \n",
       "1  [{'cast_id': 1, 'character': 'Alan Parrish', '...   \n",
       "2  [{'cast_id': 2, 'character': 'Max Goldman', 'c...   \n",
       "3  [{'cast_id': 1, 'character': \"Savannah 'Vannah...   \n",
       "4  [{'cast_id': 1, 'character': 'George Banks', '...   \n",
       "\n",
       "                                                crew     id  \n",
       "0  [{'credit_id': '52fe4284c3a36847f8024f49', 'de...    862  \n",
       "1  [{'credit_id': '52fe44bfc3a36847f80a7cd1', 'de...   8844  \n",
       "2  [{'credit_id': '52fe466a9251416c75077a89', 'de...  15602  \n",
       "3  [{'credit_id': '52fe44779251416c91011acb', 'de...  31357  \n",
       "4  [{'credit_id': '52fe44959251416c75039ed7', 'de...  11862  "
      ]
     },
     "execution_count": 50,
     "metadata": {},
     "output_type": "execute_result"
    }
   ],
   "source": [
    "df_credits = pd.read_csv('./Dataset/credits.csv',delimiter=',')\n",
    "df_credits.head(5)"
   ]
  },
  {
   "cell_type": "code",
   "execution_count": 51,
   "metadata": {},
   "outputs": [
    {
     "name": "stdout",
     "output_type": "stream",
     "text": [
      "['cast', 'crew']\n"
     ]
    }
   ],
   "source": [
    "# creo un ciclo for que conprueba si los primeros valores de cada columna son del tipo string\n",
    "columnas_texto = []\n",
    "for columna in df_credits.columns:\n",
    "    primer_valor = df_credits[columna][0]\n",
    "    if isinstance(primer_valor, str):\n",
    "        columnas_texto.append(columna)\n",
    "\n",
    "# Muestra la lista con los nombres de las columnas que contienen \n",
    "print(columnas_texto)"
   ]
  },
  {
   "cell_type": "code",
   "execution_count": 52,
   "metadata": {},
   "outputs": [],
   "source": [
    "# Funcion que utiliza a su vez la funcion eval()\n",
    "def convert_to_dicc(text):\n",
    "    return eval(text)\n",
    "\n",
    "\n",
    "for a in columnas_texto:                                    # ciclo for que itera la lista 'columnas_texto'\n",
    "    df_credits[a] = df_credits[a].fillna('None')            # Cambia los valores nulos por un texto 'None' ya que no se puede aplicar la funcion anterior con valores nulos\n",
    "    df_credits[a] = df_credits[a].apply(convert_to_dicc)    # Aplica la funcion anterior "
   ]
  },
  {
   "cell_type": "code",
   "execution_count": 53,
   "metadata": {},
   "outputs": [],
   "source": [
    "def reductor_dicc(lista):\n",
    "    if type(lista) == list and len(lista) > 0:  # Si el parametro lista es igual a una variable tipo lista y su cantidad de elementos es mayor a 0\n",
    "        keys = list(lista[0].keys())            # Extraigo en 'keys' \n",
    "        dicc_temp = {}\n",
    "        for key in keys:\n",
    "            dicc_temp[key] = []\n",
    "    \n",
    "        for dicc in lista:\n",
    "            for key in keys:\n",
    "                dicc_temp[key].append(dicc[key])\n",
    "        return dicc_temp\n",
    "    else:\n",
    "        return 0"
   ]
  },
  {
   "cell_type": "code",
   "execution_count": 54,
   "metadata": {},
   "outputs": [],
   "source": [
    "for a in ['cast','crew']:\n",
    "    df_credits[a] = df_credits[a].apply(reductor_dicc)\n",
    "    "
   ]
  },
  {
   "cell_type": "code",
   "execution_count": 58,
   "metadata": {},
   "outputs": [
    {
     "data": {
      "text/html": [
       "<div>\n",
       "<style scoped>\n",
       "    .dataframe tbody tr th:only-of-type {\n",
       "        vertical-align: middle;\n",
       "    }\n",
       "\n",
       "    .dataframe tbody tr th {\n",
       "        vertical-align: top;\n",
       "    }\n",
       "\n",
       "    .dataframe thead th {\n",
       "        text-align: right;\n",
       "    }\n",
       "</style>\n",
       "<table border=\"1\" class=\"dataframe\">\n",
       "  <thead>\n",
       "    <tr style=\"text-align: right;\">\n",
       "      <th></th>\n",
       "      <th>cast</th>\n",
       "      <th>crew</th>\n",
       "    </tr>\n",
       "    <tr>\n",
       "      <th>IdMovie</th>\n",
       "      <th></th>\n",
       "      <th></th>\n",
       "    </tr>\n",
       "  </thead>\n",
       "  <tbody>\n",
       "    <tr>\n",
       "      <th>2</th>\n",
       "      <td>{'cast_id': [3, 4, 5, 6], 'character': ['Taist...</td>\n",
       "      <td>{'credit_id': ['52fe420dc3a36847f800001f', '52...</td>\n",
       "    </tr>\n",
       "    <tr>\n",
       "      <th>3</th>\n",
       "      <td>{'cast_id': [5, 6, 7, 9, 10, 11, 12], 'charact...</td>\n",
       "      <td>{'credit_id': ['52fe420dc3a36847f8000077', '52...</td>\n",
       "    </tr>\n",
       "    <tr>\n",
       "      <th>5</th>\n",
       "      <td>{'cast_id': [42, 31, 29, 25, 41, 43, 38, 22, 2...</td>\n",
       "      <td>{'credit_id': ['52fe420dc3a36847f800011b', '52...</td>\n",
       "    </tr>\n",
       "    <tr>\n",
       "      <th>6</th>\n",
       "      <td>{'cast_id': [7, 8, 9, 10, 11, 12, 14, 15, 16, ...</td>\n",
       "      <td>{'credit_id': ['52fe420dc3a36847f800023d', '52...</td>\n",
       "    </tr>\n",
       "    <tr>\n",
       "      <th>11</th>\n",
       "      <td>{'cast_id': [3, 4, 5, 6, 14, 7, 8, 15, 16, 17,...</td>\n",
       "      <td>{'credit_id': ['52fe420dc3a36847f8000437', '52...</td>\n",
       "    </tr>\n",
       "    <tr>\n",
       "      <th>...</th>\n",
       "      <td>...</td>\n",
       "      <td>...</td>\n",
       "    </tr>\n",
       "    <tr>\n",
       "      <th>465044</th>\n",
       "      <td>{'cast_id': [0, 1, 2, 7, 8, 9], 'character': [...</td>\n",
       "      <td>{'credit_id': ['595f97249251412251083338', '59...</td>\n",
       "    </tr>\n",
       "    <tr>\n",
       "      <th>467731</th>\n",
       "      <td>{'cast_id': [2, 3, 4, 5, 6, 7, 8, 9, 10, 11, 1...</td>\n",
       "      <td>{'credit_id': ['5975903bc3a3680cb700867b', '59...</td>\n",
       "    </tr>\n",
       "    <tr>\n",
       "      <th>468343</th>\n",
       "      <td>0</td>\n",
       "      <td>{'credit_id': ['597ae87a925141364e00a73e'], 'd...</td>\n",
       "    </tr>\n",
       "    <tr>\n",
       "      <th>468707</th>\n",
       "      <td>{'cast_id': [0, 1, 2, 3, 4, 5], 'character': [...</td>\n",
       "      <td>{'credit_id': ['597e22f69251415d7801c74a', '59...</td>\n",
       "    </tr>\n",
       "    <tr>\n",
       "      <th>469172</th>\n",
       "      <td>{'cast_id': [0, 1, 2, 3, 4, 5, 6, 7, 8, 9, 10,...</td>\n",
       "      <td>{'credit_id': ['5981feabc3a3680cfb016ff9', '59...</td>\n",
       "    </tr>\n",
       "  </tbody>\n",
       "</table>\n",
       "<p>45476 rows × 2 columns</p>\n",
       "</div>"
      ],
      "text/plain": [
       "                                                      cast  \\\n",
       "IdMovie                                                      \n",
       "2        {'cast_id': [3, 4, 5, 6], 'character': ['Taist...   \n",
       "3        {'cast_id': [5, 6, 7, 9, 10, 11, 12], 'charact...   \n",
       "5        {'cast_id': [42, 31, 29, 25, 41, 43, 38, 22, 2...   \n",
       "6        {'cast_id': [7, 8, 9, 10, 11, 12, 14, 15, 16, ...   \n",
       "11       {'cast_id': [3, 4, 5, 6, 14, 7, 8, 15, 16, 17,...   \n",
       "...                                                    ...   \n",
       "465044   {'cast_id': [0, 1, 2, 7, 8, 9], 'character': [...   \n",
       "467731   {'cast_id': [2, 3, 4, 5, 6, 7, 8, 9, 10, 11, 1...   \n",
       "468343                                                   0   \n",
       "468707   {'cast_id': [0, 1, 2, 3, 4, 5], 'character': [...   \n",
       "469172   {'cast_id': [0, 1, 2, 3, 4, 5, 6, 7, 8, 9, 10,...   \n",
       "\n",
       "                                                      crew  \n",
       "IdMovie                                                     \n",
       "2        {'credit_id': ['52fe420dc3a36847f800001f', '52...  \n",
       "3        {'credit_id': ['52fe420dc3a36847f8000077', '52...  \n",
       "5        {'credit_id': ['52fe420dc3a36847f800011b', '52...  \n",
       "6        {'credit_id': ['52fe420dc3a36847f800023d', '52...  \n",
       "11       {'credit_id': ['52fe420dc3a36847f8000437', '52...  \n",
       "...                                                    ...  \n",
       "465044   {'credit_id': ['595f97249251412251083338', '59...  \n",
       "467731   {'credit_id': ['5975903bc3a3680cb700867b', '59...  \n",
       "468343   {'credit_id': ['597ae87a925141364e00a73e'], 'd...  \n",
       "468707   {'credit_id': ['597e22f69251415d7801c74a', '59...  \n",
       "469172   {'credit_id': ['5981feabc3a3680cfb016ff9', '59...  \n",
       "\n",
       "[45476 rows x 2 columns]"
      ]
     },
     "execution_count": 58,
     "metadata": {},
     "output_type": "execute_result"
    }
   ],
   "source": [
    "df_credits"
   ]
  },
  {
   "cell_type": "code",
   "execution_count": 57,
   "metadata": {},
   "outputs": [],
   "source": [
    "# Establesco la columna id como indice antes cambiandole el nombre a 'IdMovie'\n",
    "columna_id = df_credits['id']\n",
    "df_credits.drop('id',inplace=True,axis=1)\n",
    "df_credits.insert(0, 'IdMovie', columna_id)\n",
    "df_credits = df_credits.sort_values('IdMovie')\n",
    "df_credits = df_credits.set_index('IdMovie')"
   ]
  },
  {
   "attachments": {},
   "cell_type": "markdown",
   "metadata": {},
   "source": [
    "***"
   ]
  },
  {
   "attachments": {},
   "cell_type": "markdown",
   "metadata": {},
   "source": [
    "AJUSTE DE LA BASE DE DATOS PARA LA API"
   ]
  },
  {
   "cell_type": "code",
   "execution_count": 46,
   "metadata": {},
   "outputs": [],
   "source": [
    "# Elimino columnas que no son consultadas por la api para reducir el peso del archivo csv \n",
    "df_movies.drop(['belongs_to_collection','genres','original_language','overview','production_companies',\n",
    "                'production_countries','runtime','spoken_languages','tagline',],axis=1,inplace=True)"
   ]
  },
  {
   "cell_type": "code",
   "execution_count": 47,
   "metadata": {},
   "outputs": [],
   "source": [
    "# Crea nueva columna con el día de la semana en formato de texto\n",
    "df_movies['day'] = df_movies['release_date'].dt.strftime(\"%A\")"
   ]
  },
  {
   "cell_type": "code",
   "execution_count": 48,
   "metadata": {},
   "outputs": [],
   "source": [
    "# Crea nueva columna con el mes del año en formato de texto\n",
    "df_movies['release_month'] = df_movies['release_date'].dt.month"
   ]
  },
  {
   "cell_type": "code",
   "execution_count": 59,
   "metadata": {},
   "outputs": [],
   "source": [
    "df_movies = pd.merge(df_movies, df_credits, on='IdMovie')"
   ]
  },
  {
   "cell_type": "code",
   "execution_count": 61,
   "metadata": {},
   "outputs": [],
   "source": [
    "def name_actor(dicc):\n",
    "    if type(dicc) == dict: \n",
    "        #print(dicc['name'])\n",
    "        lst = dicc['name']\n",
    "        return lst\n",
    "    else:\n",
    "        return None\n",
    "df_movies['cast'] = df_movies['cast'].apply(name_actor)"
   ]
  },
  {
   "cell_type": "code",
   "execution_count": 63,
   "metadata": {},
   "outputs": [],
   "source": [
    "def name_director(dicc):\n",
    "    if type(dicc) == dict:\n",
    "        lst_temp = []\n",
    "        for index,job in enumerate(dicc['job']):\n",
    "            if job == 'Director':\n",
    "                lst_temp.append(dicc['name'][index])\n",
    "        return lst_temp\n",
    "    else:\n",
    "        return None\n",
    "df_movies['crew'] = df_movies['crew'].apply(name_director)"
   ]
  },
  {
   "cell_type": "code",
   "execution_count": 65,
   "metadata": {},
   "outputs": [],
   "source": [
    "df_movies.rename(columns={'cast': 'actor','crew':'director'},inplace=True)"
   ]
  },
  {
   "cell_type": "code",
   "execution_count": 79,
   "metadata": {},
   "outputs": [],
   "source": [
    "# Se eliminan las filas donde el valor status no sea igual a released/estrenado ya que segun la consigna se debe trabajar con las peliculas estrenadas\n",
    "df_movies = df_movies[df_movies['status'] == 'Released']\n",
    "\n",
    "# Elimino la columna status ya que todas las peliculas tiene el status de estrenadas\n",
    "df_movies.drop('status',inplace=True,axis=1)"
   ]
  },
  {
   "cell_type": "code",
   "execution_count": 84,
   "metadata": {},
   "outputs": [
    {
     "data": {
      "text/plain": [
       "budget                  float64\n",
       "popularity              float64\n",
       "release_date     datetime64[ns]\n",
       "revenue                 float64\n",
       "title                    object\n",
       "vote_average            float64\n",
       "vote_count              float64\n",
       "release_year              int64\n",
       "return                  float64\n",
       "day                      object\n",
       "release_month             int64\n",
       "actor                    object\n",
       "director                 object\n",
       "dtype: object"
      ]
     },
     "execution_count": 84,
     "metadata": {},
     "output_type": "execute_result"
    }
   ],
   "source": [
    "df_movies.dtypes"
   ]
  },
  {
   "cell_type": "code",
   "execution_count": 85,
   "metadata": {},
   "outputs": [
    {
     "data": {
      "text/plain": [
       "budget              0\n",
       "popularity          0\n",
       "release_date        0\n",
       "revenue             0\n",
       "title               0\n",
       "vote_average        0\n",
       "vote_count          0\n",
       "release_year        0\n",
       "return              0\n",
       "day                 0\n",
       "release_month       0\n",
       "actor            2303\n",
       "director          698\n",
       "dtype: int64"
      ]
     },
     "execution_count": 85,
     "metadata": {},
     "output_type": "execute_result"
    }
   ],
   "source": [
    "df_movies.isnull().sum()"
   ]
  },
  {
   "cell_type": "code",
   "execution_count": 86,
   "metadata": {},
   "outputs": [],
   "source": [
    "df_movies.to_csv('api.csv', index=False)"
   ]
  },
  {
   "cell_type": "code",
   "execution_count": 87,
   "metadata": {},
   "outputs": [
    {
     "name": "stdout",
     "output_type": "stream",
     "text": [
      "['King Kong' \"Ocean's Eleven\" 'Shaft' ... 'Feed' 'The Saint' 'Abduction']\n"
     ]
    },
    {
     "data": {
      "text/plain": [
       "2305"
      ]
     },
     "execution_count": 87,
     "metadata": {},
     "output_type": "execute_result"
    }
   ],
   "source": [
    "valores_duplicados = df_movies[df_movies.duplicated('title')]['title'].unique()\n",
    "print(valores_duplicados)\n",
    "len(valores_duplicados)"
   ]
  },
  {
   "cell_type": "code",
   "execution_count": 89,
   "metadata": {},
   "outputs": [
    {
     "data": {
      "text/html": [
       "<div>\n",
       "<style scoped>\n",
       "    .dataframe tbody tr th:only-of-type {\n",
       "        vertical-align: middle;\n",
       "    }\n",
       "\n",
       "    .dataframe tbody tr th {\n",
       "        vertical-align: top;\n",
       "    }\n",
       "\n",
       "    .dataframe thead th {\n",
       "        text-align: right;\n",
       "    }\n",
       "</style>\n",
       "<table border=\"1\" class=\"dataframe\">\n",
       "  <thead>\n",
       "    <tr style=\"text-align: right;\">\n",
       "      <th></th>\n",
       "      <th>budget</th>\n",
       "      <th>popularity</th>\n",
       "      <th>release_date</th>\n",
       "      <th>revenue</th>\n",
       "      <th>title</th>\n",
       "      <th>vote_average</th>\n",
       "      <th>vote_count</th>\n",
       "      <th>release_year</th>\n",
       "      <th>return</th>\n",
       "      <th>day</th>\n",
       "      <th>release_month</th>\n",
       "      <th>actor</th>\n",
       "      <th>director</th>\n",
       "    </tr>\n",
       "    <tr>\n",
       "      <th>IdMovie</th>\n",
       "      <th></th>\n",
       "      <th></th>\n",
       "      <th></th>\n",
       "      <th></th>\n",
       "      <th></th>\n",
       "      <th></th>\n",
       "      <th></th>\n",
       "      <th></th>\n",
       "      <th></th>\n",
       "      <th></th>\n",
       "      <th></th>\n",
       "      <th></th>\n",
       "      <th></th>\n",
       "    </tr>\n",
       "  </thead>\n",
       "  <tbody>\n",
       "    <tr>\n",
       "      <th>161</th>\n",
       "      <td>85000000.0</td>\n",
       "      <td>12.114932</td>\n",
       "      <td>2001-12-07</td>\n",
       "      <td>450717150.0</td>\n",
       "      <td>Ocean's Eleven</td>\n",
       "      <td>7.2</td>\n",
       "      <td>3857.0</td>\n",
       "      <td>2001</td>\n",
       "      <td>5.302555</td>\n",
       "      <td>Friday</td>\n",
       "      <td>12</td>\n",
       "      <td>[George Clooney, Brad Pitt, Matt Damon, Andy G...</td>\n",
       "      <td>[Steven Soderbergh]</td>\n",
       "    </tr>\n",
       "    <tr>\n",
       "      <th>299</th>\n",
       "      <td>0.0</td>\n",
       "      <td>7.295060</td>\n",
       "      <td>1960-02-17</td>\n",
       "      <td>0.0</td>\n",
       "      <td>Ocean's Eleven</td>\n",
       "      <td>6.6</td>\n",
       "      <td>79.0</td>\n",
       "      <td>1960</td>\n",
       "      <td>0.000000</td>\n",
       "      <td>Wednesday</td>\n",
       "      <td>2</td>\n",
       "      <td>[Frank Sinatra, Dean Martin, Peter Lawford, An...</td>\n",
       "      <td>[Lewis Milestone]</td>\n",
       "    </tr>\n",
       "  </tbody>\n",
       "</table>\n",
       "</div>"
      ],
      "text/plain": [
       "             budget  popularity release_date      revenue           title  \\\n",
       "IdMovie                                                                     \n",
       "161      85000000.0   12.114932   2001-12-07  450717150.0  Ocean's Eleven   \n",
       "299             0.0    7.295060   1960-02-17          0.0  Ocean's Eleven   \n",
       "\n",
       "         vote_average  vote_count  release_year    return        day  \\\n",
       "IdMovie                                                                \n",
       "161               7.2      3857.0          2001  5.302555     Friday   \n",
       "299               6.6        79.0          1960  0.000000  Wednesday   \n",
       "\n",
       "         release_month                                              actor  \\\n",
       "IdMovie                                                                     \n",
       "161                 12  [George Clooney, Brad Pitt, Matt Damon, Andy G...   \n",
       "299                  2  [Frank Sinatra, Dean Martin, Peter Lawford, An...   \n",
       "\n",
       "                    director  \n",
       "IdMovie                       \n",
       "161      [Steven Soderbergh]  \n",
       "299        [Lewis Milestone]  "
      ]
     },
     "execution_count": 89,
     "metadata": {},
     "output_type": "execute_result"
    }
   ],
   "source": [
    "df_movies[df_movies['title'] == \"Ocean's Eleven\"]"
   ]
  },
  {
   "attachments": {},
   "cell_type": "markdown",
   "metadata": {},
   "source": [
    "***"
   ]
  },
  {
   "attachments": {},
   "cell_type": "markdown",
   "metadata": {},
   "source": [
    "MACHINE LEARNING"
   ]
  },
  {
   "cell_type": "code",
   "execution_count": 226,
   "metadata": {},
   "outputs": [
    {
     "data": {
      "text/html": [
       "<div>\n",
       "<style scoped>\n",
       "    .dataframe tbody tr th:only-of-type {\n",
       "        vertical-align: middle;\n",
       "    }\n",
       "\n",
       "    .dataframe tbody tr th {\n",
       "        vertical-align: top;\n",
       "    }\n",
       "\n",
       "    .dataframe thead th {\n",
       "        text-align: right;\n",
       "    }\n",
       "</style>\n",
       "<table border=\"1\" class=\"dataframe\">\n",
       "  <thead>\n",
       "    <tr style=\"text-align: right;\">\n",
       "      <th></th>\n",
       "      <th>belongs_to_collection</th>\n",
       "      <th>budget</th>\n",
       "      <th>genres</th>\n",
       "      <th>original_language</th>\n",
       "      <th>overview</th>\n",
       "      <th>popularity</th>\n",
       "      <th>production_companies</th>\n",
       "      <th>production_countries</th>\n",
       "      <th>release_date</th>\n",
       "      <th>revenue</th>\n",
       "      <th>runtime</th>\n",
       "      <th>spoken_languages</th>\n",
       "      <th>status</th>\n",
       "      <th>tagline</th>\n",
       "      <th>title</th>\n",
       "      <th>vote_average</th>\n",
       "      <th>vote_count</th>\n",
       "      <th>release_year</th>\n",
       "      <th>return</th>\n",
       "    </tr>\n",
       "    <tr>\n",
       "      <th>IdMovie</th>\n",
       "      <th></th>\n",
       "      <th></th>\n",
       "      <th></th>\n",
       "      <th></th>\n",
       "      <th></th>\n",
       "      <th></th>\n",
       "      <th></th>\n",
       "      <th></th>\n",
       "      <th></th>\n",
       "      <th></th>\n",
       "      <th></th>\n",
       "      <th></th>\n",
       "      <th></th>\n",
       "      <th></th>\n",
       "      <th></th>\n",
       "      <th></th>\n",
       "      <th></th>\n",
       "      <th></th>\n",
       "      <th></th>\n",
       "    </tr>\n",
       "  </thead>\n",
       "  <tbody>\n",
       "    <tr>\n",
       "      <th>2</th>\n",
       "      <td>None</td>\n",
       "      <td>0.0</td>\n",
       "      <td>[Drama, Crime]</td>\n",
       "      <td>fi</td>\n",
       "      <td>Taisto Kasurinen is a Finnish coal miner whose...</td>\n",
       "      <td>3.860491</td>\n",
       "      <td>[Villealfa Filmproduction Oy, Finnish Film Fou...</td>\n",
       "      <td>[Finland]</td>\n",
       "      <td>1988-10-21</td>\n",
       "      <td>0.0</td>\n",
       "      <td>69.0</td>\n",
       "      <td>[suomi, Deutsch]</td>\n",
       "      <td>Released</td>\n",
       "      <td>NaN</td>\n",
       "      <td>Ariel</td>\n",
       "      <td>7.1</td>\n",
       "      <td>44.0</td>\n",
       "      <td>1988</td>\n",
       "      <td>0.0</td>\n",
       "    </tr>\n",
       "    <tr>\n",
       "      <th>3</th>\n",
       "      <td>None</td>\n",
       "      <td>0.0</td>\n",
       "      <td>[Drama, Comedy]</td>\n",
       "      <td>fi</td>\n",
       "      <td>An episode in the life of Nikander, a garbage ...</td>\n",
       "      <td>2.292110</td>\n",
       "      <td>[Villealfa Filmproduction Oy]</td>\n",
       "      <td>[Finland]</td>\n",
       "      <td>1986-10-16</td>\n",
       "      <td>0.0</td>\n",
       "      <td>76.0</td>\n",
       "      <td>[English, suomi, svenska]</td>\n",
       "      <td>Released</td>\n",
       "      <td>NaN</td>\n",
       "      <td>Shadows in Paradise</td>\n",
       "      <td>7.1</td>\n",
       "      <td>35.0</td>\n",
       "      <td>1986</td>\n",
       "      <td>0.0</td>\n",
       "    </tr>\n",
       "  </tbody>\n",
       "</table>\n",
       "</div>"
      ],
      "text/plain": [
       "        belongs_to_collection  budget           genres original_language  \\\n",
       "IdMovie                                                                    \n",
       "2                        None     0.0   [Drama, Crime]                fi   \n",
       "3                        None     0.0  [Drama, Comedy]                fi   \n",
       "\n",
       "                                                  overview  popularity  \\\n",
       "IdMovie                                                                  \n",
       "2        Taisto Kasurinen is a Finnish coal miner whose...    3.860491   \n",
       "3        An episode in the life of Nikander, a garbage ...    2.292110   \n",
       "\n",
       "                                      production_companies  \\\n",
       "IdMovie                                                      \n",
       "2        [Villealfa Filmproduction Oy, Finnish Film Fou...   \n",
       "3                            [Villealfa Filmproduction Oy]   \n",
       "\n",
       "        production_countries release_date  revenue  runtime  \\\n",
       "IdMovie                                                       \n",
       "2                  [Finland]   1988-10-21      0.0     69.0   \n",
       "3                  [Finland]   1986-10-16      0.0     76.0   \n",
       "\n",
       "                  spoken_languages    status tagline                title  \\\n",
       "IdMovie                                                                     \n",
       "2                 [suomi, Deutsch]  Released     NaN                Ariel   \n",
       "3        [English, suomi, svenska]  Released     NaN  Shadows in Paradise   \n",
       "\n",
       "         vote_average  vote_count  release_year  return  \n",
       "IdMovie                                                  \n",
       "2                 7.1        44.0          1988     0.0  \n",
       "3                 7.1        35.0          1986     0.0  "
      ]
     },
     "execution_count": 226,
     "metadata": {},
     "output_type": "execute_result"
    }
   ],
   "source": [
    "df_movies.head(2)"
   ]
  },
  {
   "cell_type": "code",
   "execution_count": 227,
   "metadata": {},
   "outputs": [],
   "source": [
    "# Se eliminan las filas donde el valor status no sea igual a released/estrenado ya que segun la consigna se debe trabajar con las peliculas estrenadas\n",
    "df_movies = df_movies[df_movies['status'] == 'Released']"
   ]
  },
  {
   "cell_type": "code",
   "execution_count": 228,
   "metadata": {},
   "outputs": [],
   "source": [
    "# Elimino la columna status ya que todas las peliculas tiene el status de estrenadas\n",
    "df_movies.drop('status',inplace=True,axis=1)"
   ]
  },
  {
   "cell_type": "code",
   "execution_count": 230,
   "metadata": {},
   "outputs": [],
   "source": [
    "# Elimino columnas que no aportan informacion relevante para la etapa de ML\n",
    "drops = ['original_language','belongs_to_collection','tagline','production_companies','production_countries','release_date','runtime','spoken_languages']\n",
    "df_movies.drop(drops,inplace=True,axis=1)"
   ]
  },
  {
   "cell_type": "code",
   "execution_count": 237,
   "metadata": {},
   "outputs": [
    {
     "data": {
      "text/html": [
       "<div>\n",
       "<style scoped>\n",
       "    .dataframe tbody tr th:only-of-type {\n",
       "        vertical-align: middle;\n",
       "    }\n",
       "\n",
       "    .dataframe tbody tr th {\n",
       "        vertical-align: top;\n",
       "    }\n",
       "\n",
       "    .dataframe thead th {\n",
       "        text-align: right;\n",
       "    }\n",
       "</style>\n",
       "<table border=\"1\" class=\"dataframe\">\n",
       "  <thead>\n",
       "    <tr style=\"text-align: right;\">\n",
       "      <th></th>\n",
       "      <th>budget</th>\n",
       "      <th>genres</th>\n",
       "      <th>overview</th>\n",
       "      <th>popularity</th>\n",
       "      <th>revenue</th>\n",
       "      <th>title</th>\n",
       "      <th>vote_average</th>\n",
       "      <th>vote_count</th>\n",
       "      <th>release_year</th>\n",
       "      <th>return</th>\n",
       "    </tr>\n",
       "    <tr>\n",
       "      <th>IdMovie</th>\n",
       "      <th></th>\n",
       "      <th></th>\n",
       "      <th></th>\n",
       "      <th></th>\n",
       "      <th></th>\n",
       "      <th></th>\n",
       "      <th></th>\n",
       "      <th></th>\n",
       "      <th></th>\n",
       "      <th></th>\n",
       "    </tr>\n",
       "  </thead>\n",
       "  <tbody>\n",
       "    <tr>\n",
       "      <th>2</th>\n",
       "      <td>0.0</td>\n",
       "      <td>[Drama, Crime]</td>\n",
       "      <td>Taisto Kasurinen is a Finnish coal miner whose...</td>\n",
       "      <td>3.860491</td>\n",
       "      <td>0.0</td>\n",
       "      <td>Ariel</td>\n",
       "      <td>7.1</td>\n",
       "      <td>44.0</td>\n",
       "      <td>1988</td>\n",
       "      <td>0.000000</td>\n",
       "    </tr>\n",
       "    <tr>\n",
       "      <th>3</th>\n",
       "      <td>0.0</td>\n",
       "      <td>[Drama, Comedy]</td>\n",
       "      <td>An episode in the life of Nikander, a garbage ...</td>\n",
       "      <td>2.292110</td>\n",
       "      <td>0.0</td>\n",
       "      <td>Shadows in Paradise</td>\n",
       "      <td>7.1</td>\n",
       "      <td>35.0</td>\n",
       "      <td>1986</td>\n",
       "      <td>0.000000</td>\n",
       "    </tr>\n",
       "    <tr>\n",
       "      <th>5</th>\n",
       "      <td>4000000.0</td>\n",
       "      <td>[Crime, Comedy]</td>\n",
       "      <td>It's Ted the Bellhop's first night on the job....</td>\n",
       "      <td>9.026586</td>\n",
       "      <td>4300000.0</td>\n",
       "      <td>Four Rooms</td>\n",
       "      <td>6.5</td>\n",
       "      <td>539.0</td>\n",
       "      <td>1995</td>\n",
       "      <td>1.075000</td>\n",
       "    </tr>\n",
       "    <tr>\n",
       "      <th>6</th>\n",
       "      <td>0.0</td>\n",
       "      <td>[Action, Thriller, Crime]</td>\n",
       "      <td>While racing to a boxing match, Frank, Mike, J...</td>\n",
       "      <td>5.538671</td>\n",
       "      <td>12136938.0</td>\n",
       "      <td>Judgment Night</td>\n",
       "      <td>6.4</td>\n",
       "      <td>79.0</td>\n",
       "      <td>1993</td>\n",
       "      <td>0.000000</td>\n",
       "    </tr>\n",
       "    <tr>\n",
       "      <th>11</th>\n",
       "      <td>11000000.0</td>\n",
       "      <td>[Adventure, Action, Science Fiction]</td>\n",
       "      <td>Princess Leia is captured and held hostage by ...</td>\n",
       "      <td>42.149697</td>\n",
       "      <td>775398007.0</td>\n",
       "      <td>Star Wars</td>\n",
       "      <td>8.1</td>\n",
       "      <td>6778.0</td>\n",
       "      <td>1977</td>\n",
       "      <td>70.490728</td>\n",
       "    </tr>\n",
       "  </tbody>\n",
       "</table>\n",
       "</div>"
      ],
      "text/plain": [
       "             budget                                genres  \\\n",
       "IdMovie                                                     \n",
       "2               0.0                        [Drama, Crime]   \n",
       "3               0.0                       [Drama, Comedy]   \n",
       "5         4000000.0                       [Crime, Comedy]   \n",
       "6               0.0             [Action, Thriller, Crime]   \n",
       "11       11000000.0  [Adventure, Action, Science Fiction]   \n",
       "\n",
       "                                                  overview  popularity  \\\n",
       "IdMovie                                                                  \n",
       "2        Taisto Kasurinen is a Finnish coal miner whose...    3.860491   \n",
       "3        An episode in the life of Nikander, a garbage ...    2.292110   \n",
       "5        It's Ted the Bellhop's first night on the job....    9.026586   \n",
       "6        While racing to a boxing match, Frank, Mike, J...    5.538671   \n",
       "11       Princess Leia is captured and held hostage by ...   42.149697   \n",
       "\n",
       "             revenue                title  vote_average  vote_count  \\\n",
       "IdMovie                                                               \n",
       "2                0.0                Ariel           7.1        44.0   \n",
       "3                0.0  Shadows in Paradise           7.1        35.0   \n",
       "5          4300000.0           Four Rooms           6.5       539.0   \n",
       "6         12136938.0       Judgment Night           6.4        79.0   \n",
       "11       775398007.0            Star Wars           8.1      6778.0   \n",
       "\n",
       "         release_year     return  \n",
       "IdMovie                           \n",
       "2                1988   0.000000  \n",
       "3                1986   0.000000  \n",
       "5                1995   1.075000  \n",
       "6                1993   0.000000  \n",
       "11               1977  70.490728  "
      ]
     },
     "execution_count": 237,
     "metadata": {},
     "output_type": "execute_result"
    }
   ],
   "source": [
    "df_movies.head(5)"
   ]
  },
  {
   "cell_type": "code",
   "execution_count": 257,
   "metadata": {},
   "outputs": [
    {
     "data": {
      "text/plain": [
       "budget             0\n",
       "overview           0\n",
       "popularity         0\n",
       "revenue            0\n",
       "title              0\n",
       "vote_average       0\n",
       "vote_count         0\n",
       "release_year       0\n",
       "return             0\n",
       "Drama              0\n",
       "Crime              0\n",
       "Comedy             0\n",
       "Action             0\n",
       "Thriller           0\n",
       "Adventure          0\n",
       "Science Fiction    0\n",
       "Animation          0\n",
       "Family             0\n",
       "Romance            0\n",
       "Mystery            0\n",
       "Music              0\n",
       "Horror             0\n",
       "Fantasy            0\n",
       "Documentary        0\n",
       "War                0\n",
       "Western            0\n",
       "History            0\n",
       "Foreign            0\n",
       "TV Movie           0\n",
       "dtype: int64"
      ]
     },
     "execution_count": 257,
     "metadata": {},
     "output_type": "execute_result"
    }
   ],
   "source": [
    "df_movies.isna().sum()"
   ]
  },
  {
   "cell_type": "code",
   "execution_count": 234,
   "metadata": {},
   "outputs": [],
   "source": [
    "df_movies.dropna(subset=['genres','overview'], inplace=True)"
   ]
  },
  {
   "cell_type": "code",
   "execution_count": 235,
   "metadata": {},
   "outputs": [
    {
     "name": "stdout",
     "output_type": "stream",
     "text": [
      "['Drama', 'Crime', 'Comedy', 'Action', 'Thriller', 'Adventure', 'Science Fiction', 'Animation', 'Family', 'Romance', 'Mystery', 'Music', 'Horror', 'Fantasy', 'Documentary', 'War', 'Western', 'History', 'Foreign', 'TV Movie']\n"
     ]
    }
   ],
   "source": [
    "unicos = []\n",
    "for a in df_movies['genres']:\n",
    "    if type(a) == list:\n",
    "        for i in a:\n",
    "            if i not in unicos:\n",
    "                unicos.append(i)\n",
    "print(unicos)"
   ]
  },
  {
   "cell_type": "code",
   "execution_count": 238,
   "metadata": {},
   "outputs": [],
   "source": [
    "# Crear columnas nuevas en el DataFrame para cada género único y asignar valores 1 o 0\n",
    "for genre in unicos:\n",
    "    df_movies[genre] = df_movies['genres'].apply(lambda x: 1 if genre in x else 0)"
   ]
  },
  {
   "cell_type": "code",
   "execution_count": 239,
   "metadata": {},
   "outputs": [],
   "source": [
    "df_movies.drop('genres',inplace=True,axis=1)"
   ]
  },
  {
   "cell_type": "code",
   "execution_count": 107,
   "metadata": {},
   "outputs": [
    {
     "data": {
      "text/plain": [
       "IdMovie\n",
       "2                  Ariel\n",
       "3    Shadows in Paradise\n",
       "Name: title, dtype: object"
      ]
     },
     "execution_count": 107,
     "metadata": {},
     "output_type": "execute_result"
    }
   ],
   "source": [
    "df_movies.head(2)"
   ]
  },
  {
   "cell_type": "code",
   "execution_count": 105,
   "metadata": {},
   "outputs": [],
   "source": [
    "df_movies.to_csv('ML.csv')"
   ]
  },
  {
   "attachments": {},
   "cell_type": "markdown",
   "metadata": {},
   "source": [
    "***"
   ]
  },
  {
   "attachments": {},
   "cell_type": "markdown",
   "metadata": {},
   "source": [
    "MACHINE LEARNING"
   ]
  },
  {
   "cell_type": "code",
   "execution_count": 108,
   "metadata": {},
   "outputs": [],
   "source": [
    "df_movies = pd.read_csv('api.csv')"
   ]
  },
  {
   "cell_type": "code",
   "execution_count": 109,
   "metadata": {},
   "outputs": [],
   "source": [
    "from sklearn.feature_extraction.text import TfidfVectorizer\n",
    "from sklearn.neighbors import NearestNeighbors"
   ]
  },
  {
   "cell_type": "code",
   "execution_count": 110,
   "metadata": {},
   "outputs": [],
   "source": [
    "model = TfidfVectorizer(max_df = 0.9)"
   ]
  },
  {
   "cell_type": "code",
   "execution_count": 321,
   "metadata": {},
   "outputs": [],
   "source": [
    "matrix = model.fit_transform(df_movies[\"overview\"])"
   ]
  },
  {
   "cell_type": "code",
   "execution_count": 322,
   "metadata": {},
   "outputs": [
    {
     "data": {
      "text/html": [
       "<style>#sk-container-id-8 {color: black;background-color: white;}#sk-container-id-8 pre{padding: 0;}#sk-container-id-8 div.sk-toggleable {background-color: white;}#sk-container-id-8 label.sk-toggleable__label {cursor: pointer;display: block;width: 100%;margin-bottom: 0;padding: 0.3em;box-sizing: border-box;text-align: center;}#sk-container-id-8 label.sk-toggleable__label-arrow:before {content: \"▸\";float: left;margin-right: 0.25em;color: #696969;}#sk-container-id-8 label.sk-toggleable__label-arrow:hover:before {color: black;}#sk-container-id-8 div.sk-estimator:hover label.sk-toggleable__label-arrow:before {color: black;}#sk-container-id-8 div.sk-toggleable__content {max-height: 0;max-width: 0;overflow: hidden;text-align: left;background-color: #f0f8ff;}#sk-container-id-8 div.sk-toggleable__content pre {margin: 0.2em;color: black;border-radius: 0.25em;background-color: #f0f8ff;}#sk-container-id-8 input.sk-toggleable__control:checked~div.sk-toggleable__content {max-height: 200px;max-width: 100%;overflow: auto;}#sk-container-id-8 input.sk-toggleable__control:checked~label.sk-toggleable__label-arrow:before {content: \"▾\";}#sk-container-id-8 div.sk-estimator input.sk-toggleable__control:checked~label.sk-toggleable__label {background-color: #d4ebff;}#sk-container-id-8 div.sk-label input.sk-toggleable__control:checked~label.sk-toggleable__label {background-color: #d4ebff;}#sk-container-id-8 input.sk-hidden--visually {border: 0;clip: rect(1px 1px 1px 1px);clip: rect(1px, 1px, 1px, 1px);height: 1px;margin: -1px;overflow: hidden;padding: 0;position: absolute;width: 1px;}#sk-container-id-8 div.sk-estimator {font-family: monospace;background-color: #f0f8ff;border: 1px dotted black;border-radius: 0.25em;box-sizing: border-box;margin-bottom: 0.5em;}#sk-container-id-8 div.sk-estimator:hover {background-color: #d4ebff;}#sk-container-id-8 div.sk-parallel-item::after {content: \"\";width: 100%;border-bottom: 1px solid gray;flex-grow: 1;}#sk-container-id-8 div.sk-label:hover label.sk-toggleable__label {background-color: #d4ebff;}#sk-container-id-8 div.sk-serial::before {content: \"\";position: absolute;border-left: 1px solid gray;box-sizing: border-box;top: 0;bottom: 0;left: 50%;z-index: 0;}#sk-container-id-8 div.sk-serial {display: flex;flex-direction: column;align-items: center;background-color: white;padding-right: 0.2em;padding-left: 0.2em;position: relative;}#sk-container-id-8 div.sk-item {position: relative;z-index: 1;}#sk-container-id-8 div.sk-parallel {display: flex;align-items: stretch;justify-content: center;background-color: white;position: relative;}#sk-container-id-8 div.sk-item::before, #sk-container-id-8 div.sk-parallel-item::before {content: \"\";position: absolute;border-left: 1px solid gray;box-sizing: border-box;top: 0;bottom: 0;left: 50%;z-index: -1;}#sk-container-id-8 div.sk-parallel-item {display: flex;flex-direction: column;z-index: 1;position: relative;background-color: white;}#sk-container-id-8 div.sk-parallel-item:first-child::after {align-self: flex-end;width: 50%;}#sk-container-id-8 div.sk-parallel-item:last-child::after {align-self: flex-start;width: 50%;}#sk-container-id-8 div.sk-parallel-item:only-child::after {width: 0;}#sk-container-id-8 div.sk-dashed-wrapped {border: 1px dashed gray;margin: 0 0.4em 0.5em 0.4em;box-sizing: border-box;padding-bottom: 0.4em;background-color: white;}#sk-container-id-8 div.sk-label label {font-family: monospace;font-weight: bold;display: inline-block;line-height: 1.2em;}#sk-container-id-8 div.sk-label-container {text-align: center;}#sk-container-id-8 div.sk-container {/* jupyter's `normalize.less` sets `[hidden] { display: none; }` but bootstrap.min.css set `[hidden] { display: none !important; }` so we also need the `!important` here to be able to override the default hidden behavior on the sphinx rendered scikit-learn.org. See: https://github.com/scikit-learn/scikit-learn/issues/21755 */display: inline-block !important;position: relative;}#sk-container-id-8 div.sk-text-repr-fallback {display: none;}</style><div id=\"sk-container-id-8\" class=\"sk-top-container\"><div class=\"sk-text-repr-fallback\"><pre>NearestNeighbors(algorithm=&#x27;kd_tree&#x27;, n_neighbors=6)</pre><b>In a Jupyter environment, please rerun this cell to show the HTML representation or trust the notebook. <br />On GitHub, the HTML representation is unable to render, please try loading this page with nbviewer.org.</b></div><div class=\"sk-container\" hidden><div class=\"sk-item\"><div class=\"sk-estimator sk-toggleable\"><input class=\"sk-toggleable__control sk-hidden--visually\" id=\"sk-estimator-id-8\" type=\"checkbox\" checked><label for=\"sk-estimator-id-8\" class=\"sk-toggleable__label sk-toggleable__label-arrow\">NearestNeighbors</label><div class=\"sk-toggleable__content\"><pre>NearestNeighbors(algorithm=&#x27;kd_tree&#x27;, n_neighbors=6)</pre></div></div></div></div></div>"
      ],
      "text/plain": [
       "NearestNeighbors(algorithm='kd_tree', n_neighbors=6)"
      ]
     },
     "execution_count": 322,
     "metadata": {},
     "output_type": "execute_result"
    }
   ],
   "source": [
    "index = NearestNeighbors(n_neighbors=6, algorithm='kd_tree')\n",
    "index.fit(matrix)"
   ]
  },
  {
   "cell_type": "code",
   "execution_count": 323,
   "metadata": {},
   "outputs": [],
   "source": [
    "def recommend_movies(title):\n",
    "    overview = df_movies[df_movies['title'] == title]['overview'].iloc[0] # Busca el valor de la columna 'overview' segun el titulo ingresado\n",
    "    overview_vector = model.transform([overview])  # Transforma el título de entrada en una representación vectorial\n",
    "    _, indices = index.kneighbors(overview_vector)  # Busca los vecinos más cercanos basados en la representación vectorial\n",
    "    recommendations = df_movies[\"title\"].iloc[indices[0][1:]]  # Obtiene los títulos de las películas más similares (excluyendo la película de referencia)\n",
    "    return recommendations"
   ]
  },
  {
   "cell_type": "code",
   "execution_count": 324,
   "metadata": {},
   "outputs": [
    {
     "name": "stdout",
     "output_type": "stream",
     "text": [
      "Recomendaciones de películas:\n",
      "Slaves of New York\n",
      "Game Over\n",
      "Afstiros katallilo\n",
      "Wojaczek\n",
      "10,000 Dollars for a Massacre\n"
     ]
    }
   ],
   "source": [
    "movie_title = \"Manuel on the Island of Wonders\"  # Ingresa el título de la película de referencia\n",
    "recommendations = recommend_movies(movie_title)\n",
    "print(\"Recomendaciones de películas:\")\n",
    "for movie in recommendations:\n",
    "    print(movie)"
   ]
  },
  {
   "cell_type": "code",
   "execution_count": 111,
   "metadata": {},
   "outputs": [
    {
     "name": "stdout",
     "output_type": "stream",
     "text": [
      "Recomendaciones de películas:\n",
      "The Wonders\n",
      "The Wonders\n",
      "S.W.A.T.\n",
      "M\n",
      "D.E.B.S.\n"
     ]
    },
    {
     "name": "stderr",
     "output_type": "stream",
     "text": [
      "c:\\Users\\Guille\\anaconda3\\envs\\soyhenry\\lib\\site-packages\\sklearn\\neighbors\\_base.py:557: UserWarning: cannot use tree with sparse input: using brute force\n",
      "  warnings.warn(\"cannot use tree with sparse input: using brute force\")\n"
     ]
    }
   ],
   "source": [
    "matrix = model.fit_transform(df_movies[\"title\"])\n",
    "index = NearestNeighbors(n_neighbors=6, algorithm='kd_tree')\n",
    "index.fit(matrix)\n",
    "\n",
    "def recommend_movies(title):\n",
    "    title_vector = model.transform([title])  # Transforma el título de entrada en una representación vectorial\n",
    "    _, indices = index.kneighbors(title_vector)  # Busca los vecinos más cercanos basados en la representación vectorial\n",
    "    recommendations = df_movies[\"title\"].iloc[indices[0][1:]]  # Obtiene los títulos de las películas más similares (excluyendo la película de referencia)\n",
    "    return recommendations\n",
    "\n",
    "\n",
    "movie_title = \"Manuel on the Island of Wonders\"  # Ingresa el título de la película de referencia\n",
    "recommendations = recommend_movies(movie_title)\n",
    "print(\"Recomendaciones de películas:\")\n",
    "for movie in recommendations:\n",
    "    print(movie)"
   ]
  }
 ],
 "metadata": {
  "kernelspec": {
   "display_name": "soyhenry",
   "language": "python",
   "name": "python3"
  },
  "language_info": {
   "codemirror_mode": {
    "name": "ipython",
    "version": 3
   },
   "file_extension": ".py",
   "mimetype": "text/x-python",
   "name": "python",
   "nbconvert_exporter": "python",
   "pygments_lexer": "ipython3",
   "version": "3.8.13"
  },
  "orig_nbformat": 4
 },
 "nbformat": 4,
 "nbformat_minor": 2
}
