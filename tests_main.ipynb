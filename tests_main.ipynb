{
 "cells": [
  {
   "cell_type": "code",
   "execution_count": 6,
   "metadata": {},
   "outputs": [],
   "source": [
    "import pandas as pd\n",
    "import numpy as np\n",
    "from datetime import datetime\n",
    "import pickle"
   ]
  },
  {
   "cell_type": "code",
   "execution_count": 24,
   "metadata": {},
   "outputs": [],
   "source": [
    "with open('./Data/list_actors.pickle', 'rb') as archivo:\n",
    "    list_actors = pickle.load(archivo)\n",
    "\n",
    "with open('./Data/list_directors.pickle', 'rb') as archivo:\n",
    "    list_directors = pickle.load(archivo)"
   ]
  },
  {
   "cell_type": "code",
   "execution_count": 25,
   "metadata": {},
   "outputs": [],
   "source": [
    "df_movie = pd.read_pickle('./Data/api.pickle')"
   ]
  },
  {
   "cell_type": "code",
   "execution_count": 9,
   "metadata": {},
   "outputs": [
    {
     "data": {
      "text/html": [
       "<div>\n",
       "<style scoped>\n",
       "    .dataframe tbody tr th:only-of-type {\n",
       "        vertical-align: middle;\n",
       "    }\n",
       "\n",
       "    .dataframe tbody tr th {\n",
       "        vertical-align: top;\n",
       "    }\n",
       "\n",
       "    .dataframe thead th {\n",
       "        text-align: right;\n",
       "    }\n",
       "</style>\n",
       "<table border=\"1\" class=\"dataframe\">\n",
       "  <thead>\n",
       "    <tr style=\"text-align: right;\">\n",
       "      <th></th>\n",
       "      <th>budget</th>\n",
       "      <th>popularity</th>\n",
       "      <th>release_date</th>\n",
       "      <th>revenue</th>\n",
       "      <th>status</th>\n",
       "      <th>title</th>\n",
       "      <th>vote_average</th>\n",
       "      <th>vote_count</th>\n",
       "      <th>release_year</th>\n",
       "      <th>return</th>\n",
       "      <th>actors</th>\n",
       "      <th>directors</th>\n",
       "      <th>release_day</th>\n",
       "      <th>release_month</th>\n",
       "    </tr>\n",
       "    <tr>\n",
       "      <th>IdMovie</th>\n",
       "      <th></th>\n",
       "      <th></th>\n",
       "      <th></th>\n",
       "      <th></th>\n",
       "      <th></th>\n",
       "      <th></th>\n",
       "      <th></th>\n",
       "      <th></th>\n",
       "      <th></th>\n",
       "      <th></th>\n",
       "      <th></th>\n",
       "      <th></th>\n",
       "      <th></th>\n",
       "      <th></th>\n",
       "    </tr>\n",
       "  </thead>\n",
       "  <tbody>\n",
       "    <tr>\n",
       "      <th>2</th>\n",
       "      <td>0.0</td>\n",
       "      <td>3.860491</td>\n",
       "      <td>1988-10-21</td>\n",
       "      <td>0.0</td>\n",
       "      <td>Released</td>\n",
       "      <td>Ariel</td>\n",
       "      <td>7.1</td>\n",
       "      <td>44.0</td>\n",
       "      <td>1988</td>\n",
       "      <td>0.000000</td>\n",
       "      <td>[Turo Pajala, Susanna Haavisto, Matti Pellonpä...</td>\n",
       "      <td>[Aki Kaurismäki]</td>\n",
       "      <td>Friday</td>\n",
       "      <td>10</td>\n",
       "    </tr>\n",
       "    <tr>\n",
       "      <th>3</th>\n",
       "      <td>0.0</td>\n",
       "      <td>2.292110</td>\n",
       "      <td>1986-10-16</td>\n",
       "      <td>0.0</td>\n",
       "      <td>Released</td>\n",
       "      <td>Shadows in Paradise</td>\n",
       "      <td>7.1</td>\n",
       "      <td>35.0</td>\n",
       "      <td>1986</td>\n",
       "      <td>0.000000</td>\n",
       "      <td>[Matti Pellonpää, Kati Outinen, Sakari Kuosman...</td>\n",
       "      <td>[Aki Kaurismäki]</td>\n",
       "      <td>Thursday</td>\n",
       "      <td>10</td>\n",
       "    </tr>\n",
       "    <tr>\n",
       "      <th>5</th>\n",
       "      <td>4000000.0</td>\n",
       "      <td>9.026586</td>\n",
       "      <td>1995-12-09</td>\n",
       "      <td>4300000.0</td>\n",
       "      <td>Released</td>\n",
       "      <td>Four Rooms</td>\n",
       "      <td>6.5</td>\n",
       "      <td>539.0</td>\n",
       "      <td>1995</td>\n",
       "      <td>1.075000</td>\n",
       "      <td>[Tim Roth, Antonio Banderas, Jennifer Beals, M...</td>\n",
       "      <td>[Allison Anders, Alexandre Rockwell, Robert Ro...</td>\n",
       "      <td>Saturday</td>\n",
       "      <td>12</td>\n",
       "    </tr>\n",
       "    <tr>\n",
       "      <th>6</th>\n",
       "      <td>0.0</td>\n",
       "      <td>5.538671</td>\n",
       "      <td>1993-10-15</td>\n",
       "      <td>12136938.0</td>\n",
       "      <td>Released</td>\n",
       "      <td>Judgment Night</td>\n",
       "      <td>6.4</td>\n",
       "      <td>79.0</td>\n",
       "      <td>1993</td>\n",
       "      <td>0.000000</td>\n",
       "      <td>[Emilio Estevez, Cuba Gooding Jr., Denis Leary...</td>\n",
       "      <td>[Stephen Hopkins]</td>\n",
       "      <td>Friday</td>\n",
       "      <td>10</td>\n",
       "    </tr>\n",
       "    <tr>\n",
       "      <th>11</th>\n",
       "      <td>11000000.0</td>\n",
       "      <td>42.149697</td>\n",
       "      <td>1977-05-25</td>\n",
       "      <td>775398007.0</td>\n",
       "      <td>Released</td>\n",
       "      <td>Star Wars</td>\n",
       "      <td>8.1</td>\n",
       "      <td>6778.0</td>\n",
       "      <td>1977</td>\n",
       "      <td>70.490728</td>\n",
       "      <td>[Mark Hamill, Harrison Ford, Carrie Fisher, Pe...</td>\n",
       "      <td>[George Lucas]</td>\n",
       "      <td>Wednesday</td>\n",
       "      <td>5</td>\n",
       "    </tr>\n",
       "  </tbody>\n",
       "</table>\n",
       "</div>"
      ],
      "text/plain": [
       "             budget  popularity release_date      revenue    status  \\\n",
       "IdMovie                                                               \n",
       "2               0.0    3.860491   1988-10-21          0.0  Released   \n",
       "3               0.0    2.292110   1986-10-16          0.0  Released   \n",
       "5         4000000.0    9.026586   1995-12-09    4300000.0  Released   \n",
       "6               0.0    5.538671   1993-10-15   12136938.0  Released   \n",
       "11       11000000.0   42.149697   1977-05-25  775398007.0  Released   \n",
       "\n",
       "                       title  vote_average  vote_count  release_year  \\\n",
       "IdMovie                                                                \n",
       "2                      Ariel           7.1        44.0          1988   \n",
       "3        Shadows in Paradise           7.1        35.0          1986   \n",
       "5                 Four Rooms           6.5       539.0          1995   \n",
       "6             Judgment Night           6.4        79.0          1993   \n",
       "11                 Star Wars           8.1      6778.0          1977   \n",
       "\n",
       "            return                                             actors  \\\n",
       "IdMovie                                                                 \n",
       "2         0.000000  [Turo Pajala, Susanna Haavisto, Matti Pellonpä...   \n",
       "3         0.000000  [Matti Pellonpää, Kati Outinen, Sakari Kuosman...   \n",
       "5         1.075000  [Tim Roth, Antonio Banderas, Jennifer Beals, M...   \n",
       "6         0.000000  [Emilio Estevez, Cuba Gooding Jr., Denis Leary...   \n",
       "11       70.490728  [Mark Hamill, Harrison Ford, Carrie Fisher, Pe...   \n",
       "\n",
       "                                                 directors release_day  \\\n",
       "IdMovie                                                                  \n",
       "2                                         [Aki Kaurismäki]      Friday   \n",
       "3                                         [Aki Kaurismäki]    Thursday   \n",
       "5        [Allison Anders, Alexandre Rockwell, Robert Ro...    Saturday   \n",
       "6                                        [Stephen Hopkins]      Friday   \n",
       "11                                          [George Lucas]   Wednesday   \n",
       "\n",
       "         release_month  \n",
       "IdMovie                 \n",
       "2                   10  \n",
       "3                   10  \n",
       "5                   12  \n",
       "6                   10  \n",
       "11                   5  "
      ]
     },
     "execution_count": 9,
     "metadata": {},
     "output_type": "execute_result"
    }
   ],
   "source": [
    "df_movie.head()"
   ]
  },
  {
   "cell_type": "code",
   "execution_count": 29,
   "metadata": {},
   "outputs": [
    {
     "data": {
      "text/plain": [
       "budget                  float64\n",
       "popularity              float64\n",
       "release_date     datetime64[ns]\n",
       "revenue                 float64\n",
       "status                   object\n",
       "title                    object\n",
       "vote_average            float64\n",
       "vote_count              float64\n",
       "release_year              int64\n",
       "return                  float64\n",
       "actors                   object\n",
       "directors                object\n",
       "release_day              object\n",
       "release_month             int64\n",
       "dtype: object"
      ]
     },
     "execution_count": 29,
     "metadata": {},
     "output_type": "execute_result"
    }
   ],
   "source": [
    "df_movie.dtypes"
   ]
  },
  {
   "cell_type": "code",
   "execution_count": 30,
   "metadata": {},
   "outputs": [
    {
     "data": {
      "text/plain": [
       "budget              0\n",
       "popularity          0\n",
       "release_date        0\n",
       "revenue             0\n",
       "status             80\n",
       "title               0\n",
       "vote_average        0\n",
       "vote_count          0\n",
       "release_year        0\n",
       "return              0\n",
       "actors           2354\n",
       "directors         723\n",
       "release_day         0\n",
       "release_month       0\n",
       "dtype: int64"
      ]
     },
     "execution_count": 30,
     "metadata": {},
     "output_type": "execute_result"
    }
   ],
   "source": [
    "df_movie.isna().sum()"
   ]
  },
  {
   "cell_type": "code",
   "execution_count": 10,
   "metadata": {},
   "outputs": [],
   "source": [
    "def cantidad_filmaciones_mes(mes:str):\n",
    "    months = {\n",
    "        \"enero\": 1,\n",
    "        \"febrero\": 2,\n",
    "        \"marzo\": 3,\n",
    "        \"abril\": 4,\n",
    "        \"mayo\": 5,\n",
    "        \"junio\": 6,\n",
    "        \"julio\": 7,\n",
    "        \"agosto\": 8,\n",
    "        \"septiembre\": 9,\n",
    "        \"octubre\": 10,\n",
    "        \"noviembre\": 11,\n",
    "        \"diciembre\": 12\n",
    "    }\n",
    "\n",
    "    if not isinstance(mes, str):\n",
    "        return 'Debe ingresar un texto, por ejemplo, por ejemplo: enero'\n",
    "    elif mes.lower() not in months:\n",
    "        return 'Debe ingresar un mes válido del año, por ejemplo: enero'\n",
    "    else:\n",
    "        mes = mes.lower()\n",
    "        month = months[mes]\n",
    "        resp = df_movie[(df_movie['status'] == 'Released') & (df_movie['release_month'] == month)]['release_month'].count()\n",
    "        return {'mes': mes, 'cantidad': str(resp)}"
   ]
  },
  {
   "cell_type": "code",
   "execution_count": 11,
   "metadata": {},
   "outputs": [
    {
     "name": "stdout",
     "output_type": "stream",
     "text": [
      "{'mes': 'enero', 'cantidad': '5831'}\n",
      "{'mes': 'febrero', 'cantidad': '3006'}\n",
      "{'mes': 'marzo', 'cantidad': '3532'}\n",
      "{'mes': 'abril', 'cantidad': '3423'}\n",
      "{'mes': 'mayo', 'cantidad': '3325'}\n",
      "{'mes': 'junio', 'cantidad': '3131'}\n",
      "{'mes': 'julio', 'cantidad': '2630'}\n",
      "{'mes': 'agosto', 'cantidad': '3357'}\n",
      "{'mes': 'septiembre', 'cantidad': '4798'}\n",
      "{'mes': 'octubre', 'cantidad': '4581'}\n",
      "{'mes': 'noviembre', 'cantidad': '3629'}\n",
      "{'mes': 'diciembre', 'cantidad': '3766'}\n",
      "Debe ingresar un mes válido del año, por ejemplo: enero\n",
      "Debe ingresar un texto, por ejemplo, por ejemplo: enero\n"
     ]
    }
   ],
   "source": [
    "months = {\n",
    "        \"enero\": 1,\n",
    "        \"febrero\": 2,\n",
    "        \"marzo\": 3,\n",
    "        \"abril\": 4,\n",
    "        \"mayo\": 5,\n",
    "        \"junio\": 6,\n",
    "        \"julio\": 7,\n",
    "        \"agosto\": 8,\n",
    "        \"septiembre\": 9,\n",
    "        \"octubre\": 10,\n",
    "        \"noviembre\": 11,\n",
    "        \"diciembre\": 12,\n",
    "        \"sabado\":0,\n",
    "        12:0\n",
    "    }\n",
    "for a in months:\n",
    "    print(cantidad_filmaciones_mes(a))"
   ]
  },
  {
   "cell_type": "code",
   "execution_count": 12,
   "metadata": {},
   "outputs": [],
   "source": [
    "def cantidad_filmaciones_dia(dia:str):\n",
    "    days = {\n",
    "    'lunes': 'Monday',\n",
    "    'martes': 'Tuesday',\n",
    "    'miércoles': 'Wednesday',\n",
    "    'jueves': 'Thursday',\n",
    "    'viernes': 'Friday',\n",
    "    'sábado': 'Saturday',\n",
    "    'domingo': 'Sunday'}\n",
    "\n",
    "    if not isinstance(dia, str):\n",
    "        return 'Debe ingresar un texto, por ejemplo: sabado'\n",
    "    elif dia.lower() not in days:\n",
    "        return 'Debe ingresar un dia de la semana, por ejemplo: sabado'\n",
    "    else:\n",
    "        dia = dia.lower()\n",
    "        day = days[dia]\n",
    "        resp = df_movie[(df_movie['status'] == 'Released') & (df_movie['release_day'] == day)]['release_day'].count()\n",
    "        return {'dia':dia, 'cantidad':resp}"
   ]
  },
  {
   "cell_type": "code",
   "execution_count": 13,
   "metadata": {},
   "outputs": [
    {
     "name": "stdout",
     "output_type": "stream",
     "text": [
      "{'dia': 'lunes', 'cantidad': 3474}\n",
      "{'dia': 'martes', 'cantidad': 4598}\n",
      "{'dia': 'miércoles', 'cantidad': 6986}\n",
      "{'dia': 'jueves', 'cantidad': 7466}\n",
      "{'dia': 'viernes', 'cantidad': 13783}\n",
      "{'dia': 'sábado', 'cantidad': 5112}\n",
      "{'dia': 'domingo', 'cantidad': 3590}\n",
      "Debe ingresar un dia de la semana, por ejemplo: sabado\n",
      "Debe ingresar un texto, por ejemplo: sabado\n"
     ]
    }
   ],
   "source": [
    "days = {\n",
    "    'lunes': 'Monday',\n",
    "    'martes': 'Tuesday',\n",
    "    'miércoles': 'Wednesday',\n",
    "    'jueves': 'Thursday',\n",
    "    'viernes': 'Friday',\n",
    "    'sábado': 'Saturday',\n",
    "    'domingo': 'Sunday',\n",
    "    \"enero\": 0,\n",
    "    12:0}\n",
    "for a in days:\n",
    "    print(cantidad_filmaciones_dia(a))"
   ]
  },
  {
   "cell_type": "code",
   "execution_count": 14,
   "metadata": {},
   "outputs": [],
   "source": [
    "def score_titulo(titulo:str):\n",
    "    if not isinstance(titulo, str):\n",
    "        return 'Debe ingresar un texto'\n",
    "    elif not (df_movie == titulo).any().any():\n",
    "        return 'La pelicula no se encuentra en la base de datos'\n",
    "    else:\n",
    "        resp = df_movie[df_movie['title'] == titulo][['title','popularity','release_year']].to_dict(orient='records')[0]\n",
    "        return {'titulo':resp['title'], 'popularidad':resp['popularity'], 'año':resp['release_year']}"
   ]
  },
  {
   "cell_type": "code",
   "execution_count": 15,
   "metadata": {},
   "outputs": [
    {
     "name": "stdout",
     "output_type": "stream",
     "text": [
      "La pelicula no se encuentra en la base de datos\n",
      "La pelicula no se encuentra en la base de datos\n",
      "Debe ingresar un texto\n"
     ]
    }
   ],
   "source": [
    "print(score_titulo('123'))\n",
    "print(score_titulo('jumanji'))\n",
    "print(score_titulo(6534))"
   ]
  },
  {
   "cell_type": "code",
   "execution_count": 16,
   "metadata": {},
   "outputs": [],
   "source": [
    "def votos_titulo(titulo:str):\n",
    "    if not isinstance(titulo, str):\n",
    "        return 'Debe ingresar un texto'\n",
    "    elif not (df_movie == titulo).any().any():\n",
    "        return 'La pelicula no se encuentra en la base de datos'\n",
    "    elif int(df_movie[df_movie['title'] == titulo]['vote_count']) > 2000:\n",
    "        resp = df_movie[df_movie['title'] == titulo][['title','vote_count','vote_average']].to_dict(orient='records')[0]\n",
    "        return {'titulo':resp['title'], 'voto_total':resp['vote_count'], 'voto_promedio':resp['vote_average']}\n",
    "    else:\n",
    "        return 'La consulta no cumple con las condicion por ende no se devuelve informacion'"
   ]
  },
  {
   "cell_type": "code",
   "execution_count": 17,
   "metadata": {},
   "outputs": [
    {
     "data": {
      "text/plain": [
       "'La pelicula no se encuentra en la base de datos'"
      ]
     },
     "execution_count": 17,
     "metadata": {},
     "output_type": "execute_result"
    }
   ],
   "source": [
    "votos_titulo('sgw54')"
   ]
  },
  {
   "cell_type": "code",
   "execution_count": 18,
   "metadata": {},
   "outputs": [],
   "source": [
    "def get_actor(nombre_actor:str):\n",
    "    if not isinstance(nombre_actor, str):\n",
    "        return 'Debe ingresar un texto'\n",
    "    elif nombre_actor not in list_actors:\n",
    "        return 'El actor no se encuentra en la base de datos'\n",
    "\n",
    "    _return = 0\n",
    "    n_films = 0\n",
    "    avg = 0\n",
    "    for index,lista in enumerate(df_movie['actors']):\n",
    "        if type(lista) == list: \n",
    "            if nombre_actor in lista:\n",
    "                n_films += 1\n",
    "                _return += df_movie['return'][index]\n",
    "    \n",
    "    if _return == 0 and n_films == 0:\n",
    "        avg = 0\n",
    "    else:\n",
    "        avg = _return/n_films\n",
    "\n",
    "    return {'actor':nombre_actor, 'cantidad_filmaciones':n_films, 'retorno_total':_return, 'retorno_promedio':avg}"
   ]
  },
  {
   "cell_type": "code",
   "execution_count": 21,
   "metadata": {},
   "outputs": [
    {
     "data": {
      "text/plain": [
       "{'actor': 'Tim Roth',\n",
       " 'cantidad_filmaciones': 60,\n",
       " 'retorno_total': 59.652523166146054,\n",
       " 'retorno_promedio': 0.9942087194357676}"
      ]
     },
     "execution_count": 21,
     "metadata": {},
     "output_type": "execute_result"
    }
   ],
   "source": [
    "get_actor('Tim Roth')"
   ]
  },
  {
   "cell_type": "code",
   "execution_count": 24,
   "metadata": {},
   "outputs": [],
   "source": [
    "df_movie['actor'].fillna('',inplace=True)"
   ]
  },
  {
   "cell_type": "code",
   "execution_count": 27,
   "metadata": {},
   "outputs": [],
   "source": [
    "def get_director(nombre_director:str):\n",
    "    if not isinstance(nombre_director, str):\n",
    "        return 'Debe ingresar un texto'\n",
    "    elif nombre_director not in list_directors:\n",
    "        return 'El director no se encuentra en la base de datos'\n",
    "\n",
    "    total_return = 0\n",
    "    movies = []\n",
    "    years = []\n",
    "    _return = []\n",
    "    budget = []\n",
    "    revenue = []\n",
    "    for index,lista in enumerate(df_movie['directors']):\n",
    "        if type(lista) == list:\n",
    "            if nombre_director in lista:\n",
    "                total_return += df_movie['return'][index]\n",
    "                movies.append(df_movie['title'][index])\n",
    "                years.append(df_movie['release_year'][index])\n",
    "                _return.append(df_movie['return'][index])\n",
    "                budget.append(df_movie['budget'][index])\n",
    "                revenue.append(df_movie['revenue'][index])\n",
    "\n",
    "    return {'director':nombre_director, 'retorno_total_director':total_return, \n",
    "    'peliculas':movies, 'año':years, 'retorno_pelicula':_return, \n",
    "    'budget_pelicula':budget, 'revenue_pelicula':revenue}"
   ]
  },
  {
   "cell_type": "code",
   "execution_count": 148,
   "metadata": {},
   "outputs": [],
   "source": [
    "list_directors = []\n",
    "for row in df_movie['directors']:\n",
    "    if type(row) == list:\n",
    "        for director in row:\n",
    "            if director not in list_directors:\n",
    "                list_directors.append(director)\n",
    "\n",
    "with open('../Data/list_directors.txt', 'w') as file:\n",
    "    json.dump(list_directors, file)"
   ]
  },
  {
   "cell_type": "code",
   "execution_count": 29,
   "metadata": {},
   "outputs": [
    {
     "data": {
      "text/plain": [
       "{'director': 'Aki Kaurismäki',\n",
       " 'retorno_total_director': 1.1703028985507247,\n",
       " 'peliculas': ['Ariel',\n",
       "  'Shadows in Paradise',\n",
       "  'Lights in the Dusk',\n",
       "  'The Man Without a Past',\n",
       "  'The Match Factory Girl',\n",
       "  'I Hired a Contract Killer',\n",
       "  'Drifting Clouds',\n",
       "  'Hamlet Goes Business',\n",
       "  'Visions of Europe',\n",
       "  'Leningrad Cowboys Go America',\n",
       "  'Ten Minutes Older: The Trumpet',\n",
       "  'La Vie de Bohème',\n",
       "  'Leningrad Cowboys Meet Moses',\n",
       "  'To Each His Own Cinema',\n",
       "  'Juha',\n",
       "  'Take Care of Your Scarf, Tatiana',\n",
       "  'Calamari Union',\n",
       "  'Rocky VI',\n",
       "  'Le Havre',\n",
       "  'Crime and Punishment',\n",
       "  'The Saimaa Gesture',\n",
       "  'Dirty Hands',\n",
       "  'Thru the Wire',\n",
       "  'The Other Side of Hope'],\n",
       " 'año': [1988,\n",
       "  1986,\n",
       "  2006,\n",
       "  2002,\n",
       "  1990,\n",
       "  1990,\n",
       "  1996,\n",
       "  1987,\n",
       "  2004,\n",
       "  1989,\n",
       "  2002,\n",
       "  1992,\n",
       "  1994,\n",
       "  2007,\n",
       "  1999,\n",
       "  1994,\n",
       "  1985,\n",
       "  1986,\n",
       "  2011,\n",
       "  1983,\n",
       "  1981,\n",
       "  1989,\n",
       "  1987,\n",
       "  2017],\n",
       " 'retorno_pelicula': [0.0,\n",
       "  0.0,\n",
       "  1.1703028985507247,\n",
       "  0.0,\n",
       "  0.0,\n",
       "  0.0,\n",
       "  0.0,\n",
       "  0.0,\n",
       "  0.0,\n",
       "  0.0,\n",
       "  0.0,\n",
       "  0.0,\n",
       "  0.0,\n",
       "  0.0,\n",
       "  0.0,\n",
       "  0.0,\n",
       "  0.0,\n",
       "  0.0,\n",
       "  0.0,\n",
       "  0.0,\n",
       "  0.0,\n",
       "  0.0,\n",
       "  0.0,\n",
       "  0.0],\n",
       " 'budget_pelicula': [0.0,\n",
       "  0.0,\n",
       "  1380000.0,\n",
       "  0.0,\n",
       "  474700.0,\n",
       "  0.0,\n",
       "  0.0,\n",
       "  0.0,\n",
       "  2000000.0,\n",
       "  0.0,\n",
       "  0.0,\n",
       "  0.0,\n",
       "  0.0,\n",
       "  0.0,\n",
       "  1000000.0,\n",
       "  0.0,\n",
       "  0.0,\n",
       "  0.0,\n",
       "  3850000.0,\n",
       "  0.0,\n",
       "  0.0,\n",
       "  0.0,\n",
       "  0.0,\n",
       "  0.0],\n",
       " 'revenue_pelicula': [0.0,\n",
       "  0.0,\n",
       "  1615018.0,\n",
       "  0.0,\n",
       "  0.0,\n",
       "  0.0,\n",
       "  0.0,\n",
       "  0.0,\n",
       "  0.0,\n",
       "  0.0,\n",
       "  0.0,\n",
       "  0.0,\n",
       "  0.0,\n",
       "  0.0,\n",
       "  0.0,\n",
       "  0.0,\n",
       "  0.0,\n",
       "  0.0,\n",
       "  0.0,\n",
       "  0.0,\n",
       "  0.0,\n",
       "  0.0,\n",
       "  0.0,\n",
       "  0.0]}"
      ]
     },
     "execution_count": 29,
     "metadata": {},
     "output_type": "execute_result"
    }
   ],
   "source": [
    "get_director('Aki Kaurismäki')"
   ]
  }
 ],
 "metadata": {
  "kernelspec": {
   "display_name": "soyhenry",
   "language": "python",
   "name": "python3"
  },
  "language_info": {
   "codemirror_mode": {
    "name": "ipython",
    "version": 3
   },
   "file_extension": ".py",
   "mimetype": "text/x-python",
   "name": "python",
   "nbconvert_exporter": "python",
   "pygments_lexer": "ipython3",
   "version": "3.7.16"
  },
  "orig_nbformat": 4
 },
 "nbformat": 4,
 "nbformat_minor": 2
}
