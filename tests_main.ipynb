{
 "cells": [
  {
   "cell_type": "code",
   "execution_count": 1,
   "metadata": {},
   "outputs": [],
   "source": [
    "import pandas as pd\n",
    "import joblib\n",
    "from sklearn.feature_extraction.text import TfidfVectorizer\n",
    "from sklearn.neighbors import NearestNeighbors"
   ]
  },
  {
   "cell_type": "code",
   "execution_count": 2,
   "metadata": {},
   "outputs": [],
   "source": [
    "df_movie = pd.read_pickle('./Data/api.pickle')"
   ]
  },
  {
   "cell_type": "code",
   "execution_count": 3,
   "metadata": {},
   "outputs": [
    {
     "data": {
      "text/html": [
       "<div>\n",
       "<style scoped>\n",
       "    .dataframe tbody tr th:only-of-type {\n",
       "        vertical-align: middle;\n",
       "    }\n",
       "\n",
       "    .dataframe tbody tr th {\n",
       "        vertical-align: top;\n",
       "    }\n",
       "\n",
       "    .dataframe thead th {\n",
       "        text-align: right;\n",
       "    }\n",
       "</style>\n",
       "<table border=\"1\" class=\"dataframe\">\n",
       "  <thead>\n",
       "    <tr style=\"text-align: right;\">\n",
       "      <th></th>\n",
       "      <th>belongs_to_collection</th>\n",
       "      <th>budget</th>\n",
       "      <th>original_language</th>\n",
       "      <th>popularity</th>\n",
       "      <th>production_companies</th>\n",
       "      <th>production_countries</th>\n",
       "      <th>release_date</th>\n",
       "      <th>revenue</th>\n",
       "      <th>runtime</th>\n",
       "      <th>title</th>\n",
       "      <th>vote_average</th>\n",
       "      <th>vote_count</th>\n",
       "      <th>release_year</th>\n",
       "      <th>return</th>\n",
       "      <th>actors</th>\n",
       "      <th>directors</th>\n",
       "      <th>release_day</th>\n",
       "      <th>release_month</th>\n",
       "    </tr>\n",
       "  </thead>\n",
       "  <tbody>\n",
       "    <tr>\n",
       "      <th>0</th>\n",
       "      <td>None</td>\n",
       "      <td>0.0</td>\n",
       "      <td>fi</td>\n",
       "      <td>3.860491</td>\n",
       "      <td>[Villealfa Filmproduction Oy, Finnish Film Fou...</td>\n",
       "      <td>[Finland]</td>\n",
       "      <td>1988-10-21</td>\n",
       "      <td>0.0</td>\n",
       "      <td>69.0</td>\n",
       "      <td>Ariel</td>\n",
       "      <td>7.1</td>\n",
       "      <td>44.0</td>\n",
       "      <td>1988</td>\n",
       "      <td>0.000000</td>\n",
       "      <td>[Turo Pajala, Susanna Haavisto, Matti Pellonpä...</td>\n",
       "      <td>[Aki Kaurismäki]</td>\n",
       "      <td>Friday</td>\n",
       "      <td>10</td>\n",
       "    </tr>\n",
       "    <tr>\n",
       "      <th>1</th>\n",
       "      <td>None</td>\n",
       "      <td>0.0</td>\n",
       "      <td>fi</td>\n",
       "      <td>2.292110</td>\n",
       "      <td>[Villealfa Filmproduction Oy]</td>\n",
       "      <td>[Finland]</td>\n",
       "      <td>1986-10-16</td>\n",
       "      <td>0.0</td>\n",
       "      <td>76.0</td>\n",
       "      <td>Shadows in Paradise</td>\n",
       "      <td>7.1</td>\n",
       "      <td>35.0</td>\n",
       "      <td>1986</td>\n",
       "      <td>0.000000</td>\n",
       "      <td>[Matti Pellonpää, Kati Outinen, Sakari Kuosman...</td>\n",
       "      <td>[Aki Kaurismäki]</td>\n",
       "      <td>Thursday</td>\n",
       "      <td>10</td>\n",
       "    </tr>\n",
       "    <tr>\n",
       "      <th>2</th>\n",
       "      <td>None</td>\n",
       "      <td>4000000.0</td>\n",
       "      <td>en</td>\n",
       "      <td>9.026586</td>\n",
       "      <td>[Miramax Films, A Band Apart]</td>\n",
       "      <td>[United States of America]</td>\n",
       "      <td>1995-12-09</td>\n",
       "      <td>4300000.0</td>\n",
       "      <td>98.0</td>\n",
       "      <td>Four Rooms</td>\n",
       "      <td>6.5</td>\n",
       "      <td>539.0</td>\n",
       "      <td>1995</td>\n",
       "      <td>1.075000</td>\n",
       "      <td>[Tim Roth, Antonio Banderas, Jennifer Beals, M...</td>\n",
       "      <td>[Allison Anders, Alexandre Rockwell, Robert Ro...</td>\n",
       "      <td>Saturday</td>\n",
       "      <td>12</td>\n",
       "    </tr>\n",
       "    <tr>\n",
       "      <th>3</th>\n",
       "      <td>None</td>\n",
       "      <td>0.0</td>\n",
       "      <td>en</td>\n",
       "      <td>5.538671</td>\n",
       "      <td>[Universal Pictures, Largo Entertainment, JVC ...</td>\n",
       "      <td>[Japan, United States of America]</td>\n",
       "      <td>1993-10-15</td>\n",
       "      <td>12136938.0</td>\n",
       "      <td>110.0</td>\n",
       "      <td>Judgment Night</td>\n",
       "      <td>6.4</td>\n",
       "      <td>79.0</td>\n",
       "      <td>1993</td>\n",
       "      <td>0.000000</td>\n",
       "      <td>[Emilio Estevez, Cuba Gooding Jr., Denis Leary...</td>\n",
       "      <td>[Stephen Hopkins]</td>\n",
       "      <td>Friday</td>\n",
       "      <td>10</td>\n",
       "    </tr>\n",
       "    <tr>\n",
       "      <th>4</th>\n",
       "      <td>Star Wars Collection</td>\n",
       "      <td>11000000.0</td>\n",
       "      <td>en</td>\n",
       "      <td>42.149697</td>\n",
       "      <td>[Lucasfilm, Twentieth Century Fox Film Corpora...</td>\n",
       "      <td>[United States of America]</td>\n",
       "      <td>1977-05-25</td>\n",
       "      <td>775398007.0</td>\n",
       "      <td>121.0</td>\n",
       "      <td>Star Wars</td>\n",
       "      <td>8.1</td>\n",
       "      <td>6778.0</td>\n",
       "      <td>1977</td>\n",
       "      <td>70.490728</td>\n",
       "      <td>[Mark Hamill, Harrison Ford, Carrie Fisher, Pe...</td>\n",
       "      <td>[George Lucas]</td>\n",
       "      <td>Wednesday</td>\n",
       "      <td>5</td>\n",
       "    </tr>\n",
       "  </tbody>\n",
       "</table>\n",
       "</div>"
      ],
      "text/plain": [
       "  belongs_to_collection      budget original_language  popularity  \\\n",
       "0                  None         0.0                fi    3.860491   \n",
       "1                  None         0.0                fi    2.292110   \n",
       "2                  None   4000000.0                en    9.026586   \n",
       "3                  None         0.0                en    5.538671   \n",
       "4  Star Wars Collection  11000000.0                en   42.149697   \n",
       "\n",
       "                                production_companies  \\\n",
       "0  [Villealfa Filmproduction Oy, Finnish Film Fou...   \n",
       "1                      [Villealfa Filmproduction Oy]   \n",
       "2                      [Miramax Films, A Band Apart]   \n",
       "3  [Universal Pictures, Largo Entertainment, JVC ...   \n",
       "4  [Lucasfilm, Twentieth Century Fox Film Corpora...   \n",
       "\n",
       "                production_countries release_date      revenue  runtime  \\\n",
       "0                          [Finland]   1988-10-21          0.0     69.0   \n",
       "1                          [Finland]   1986-10-16          0.0     76.0   \n",
       "2         [United States of America]   1995-12-09    4300000.0     98.0   \n",
       "3  [Japan, United States of America]   1993-10-15   12136938.0    110.0   \n",
       "4         [United States of America]   1977-05-25  775398007.0    121.0   \n",
       "\n",
       "                 title  vote_average  vote_count  release_year     return  \\\n",
       "0                Ariel           7.1        44.0          1988   0.000000   \n",
       "1  Shadows in Paradise           7.1        35.0          1986   0.000000   \n",
       "2           Four Rooms           6.5       539.0          1995   1.075000   \n",
       "3       Judgment Night           6.4        79.0          1993   0.000000   \n",
       "4            Star Wars           8.1      6778.0          1977  70.490728   \n",
       "\n",
       "                                              actors  \\\n",
       "0  [Turo Pajala, Susanna Haavisto, Matti Pellonpä...   \n",
       "1  [Matti Pellonpää, Kati Outinen, Sakari Kuosman...   \n",
       "2  [Tim Roth, Antonio Banderas, Jennifer Beals, M...   \n",
       "3  [Emilio Estevez, Cuba Gooding Jr., Denis Leary...   \n",
       "4  [Mark Hamill, Harrison Ford, Carrie Fisher, Pe...   \n",
       "\n",
       "                                           directors release_day  \\\n",
       "0                                   [Aki Kaurismäki]      Friday   \n",
       "1                                   [Aki Kaurismäki]    Thursday   \n",
       "2  [Allison Anders, Alexandre Rockwell, Robert Ro...    Saturday   \n",
       "3                                  [Stephen Hopkins]      Friday   \n",
       "4                                     [George Lucas]   Wednesday   \n",
       "\n",
       "   release_month  \n",
       "0             10  \n",
       "1             10  \n",
       "2             12  \n",
       "3             10  \n",
       "4              5  "
      ]
     },
     "execution_count": 3,
     "metadata": {},
     "output_type": "execute_result"
    }
   ],
   "source": [
    "df_movie.head()"
   ]
  },
  {
   "cell_type": "code",
   "execution_count": 6,
   "metadata": {},
   "outputs": [
    {
     "data": {
      "text/plain": [
       "belongs_to_collection            object\n",
       "budget                          float64\n",
       "genres                           object\n",
       "original_language                object\n",
       "overview                         object\n",
       "popularity                      float64\n",
       "production_companies             object\n",
       "production_countries             object\n",
       "release_date             datetime64[ns]\n",
       "revenue                         float64\n",
       "runtime                         float64\n",
       "spoken_languages                 object\n",
       "tagline                          object\n",
       "title                            object\n",
       "vote_average                    float64\n",
       "vote_count                      float64\n",
       "release_year                      int64\n",
       "return                          float64\n",
       "actors                           object\n",
       "directors                        object\n",
       "dtype: object"
      ]
     },
     "execution_count": 6,
     "metadata": {},
     "output_type": "execute_result"
    }
   ],
   "source": [
    "df_movie.dtypes"
   ]
  },
  {
   "cell_type": "code",
   "execution_count": 7,
   "metadata": {},
   "outputs": [
    {
     "data": {
      "text/plain": [
       "belongs_to_collection    40534\n",
       "budget                       0\n",
       "genres                    2327\n",
       "original_language           10\n",
       "overview                   907\n",
       "popularity                   0\n",
       "production_companies     11579\n",
       "production_countries      6089\n",
       "release_date                 0\n",
       "revenue                      0\n",
       "runtime                    240\n",
       "spoken_languages          3702\n",
       "tagline                  24695\n",
       "title                        0\n",
       "vote_average                 0\n",
       "vote_count                   0\n",
       "release_year                 0\n",
       "return                       0\n",
       "actors                    2303\n",
       "directors                  698\n",
       "dtype: int64"
      ]
     },
     "execution_count": 7,
     "metadata": {},
     "output_type": "execute_result"
    }
   ],
   "source": [
    "df_movie.isna().sum()"
   ]
  },
  {
   "cell_type": "code",
   "execution_count": 23,
   "metadata": {},
   "outputs": [
    {
     "name": "stdout",
     "output_type": "stream",
     "text": [
      "{'idioma': 'en', 'cantidad': '31938'}\n"
     ]
    }
   ],
   "source": [
    "# Esta funcion pide como parametro un nombre corto de un idioma y retorna un diccionario con el idioma ingresado y la cantidad de peliculas en ese idioma\n",
    "def peliculas_idioma(idioma:str):\n",
    "    if not isinstance(idioma, str):\n",
    "        return 'Debe ingresar un texto'\n",
    "    else:\n",
    "        respuesta = df_movie[df_movie['original_language'] == idioma].shape[0]\n",
    "\n",
    "    return {'idioma':idioma, 'cantidad': str(respuesta)}\n",
    "\n",
    "print(peliculas_idioma('en'))"
   ]
  },
  {
   "cell_type": "code",
   "execution_count": 21,
   "metadata": {},
   "outputs": [
    {
     "name": "stdout",
     "output_type": "stream",
     "text": [
      "{'pelicula': 'Ariel', 'duracion': '69.0', 'anio': '1988'}\n"
     ]
    }
   ],
   "source": [
    "# esta funcion pide como parametro en nombre de una pelicula y retorna un diccionario con en nombre de la pelicula, duracion en minutos y el año de estreno\n",
    "def peliculas_duracion(pelicula:str):\n",
    "    if not isinstance(pelicula, str):\n",
    "        return 'Debe ingresar un texto'\n",
    "    elif not (df_movie['title'] == pelicula).any().any():\n",
    "        return 'La pelicula no se encuentra en la base de datos'\n",
    "    else:\n",
    "        df = df_movie[df_movie['title'] == pelicula][['runtime','release_year']]\n",
    "        respuesta = df['runtime'][0]\n",
    "        anio = df['release_year'][0]\n",
    "        return {'pelicula':pelicula, 'duracion':str(respuesta), 'anio':str(anio)}\n",
    "\n",
    "print(peliculas_duracion('Ariel'))"
   ]
  },
  {
   "cell_type": "code",
   "execution_count": 10,
   "metadata": {},
   "outputs": [
    {
     "name": "stdout",
     "output_type": "stream",
     "text": [
      "{'franquicia': 'Star Wars Collection', 'cantidad': '8', 'ganancia_total': '152.79842082211397', 'ganancia_promedio': '19.099802602764246'}\n"
     ]
    }
   ],
   "source": [
    "# Esta funcion pide como parametro una franquicia y retorna un diccionario con el nombre de la franquicia, cantidad de peliculas que tiene la franquicia, ganancia total (return), y granancia promedio.\n",
    "def franquicia(franquicia:str):\n",
    "    if not isinstance(franquicia, str):\n",
    "        return 'Debe ingresar un texto'\n",
    "    elif not (df_movie['belongs_to_collection'] == franquicia).any().any():\n",
    "        return 'La pelicula no se encuentra en la base de datos'\n",
    "    else:\n",
    "        df = df_movie[df_movie['belongs_to_collection'] == franquicia]\n",
    "        cantidad = df.shape[0]\n",
    "        ganancia_total = df['return'].sum()\n",
    "        promedio = ganancia_total/cantidad\n",
    "\n",
    "        return {'franquicia':franquicia, 'cantidad':str(cantidad), 'ganancia_total': str(ganancia_total), 'ganancia_promedio':str(promedio)}\n",
    "\n",
    "print(franquicia('Star Wars Collection'))"
   ]
  },
  {
   "cell_type": "code",
   "execution_count": 24,
   "metadata": {},
   "outputs": [
    {
     "name": "stdout",
     "output_type": "stream",
     "text": [
      "{'pais': 'United States of America', 'cantidad': '21044'}\n"
     ]
    }
   ],
   "source": [
    "# Esta funcion pide como parametro un nombre de pais y retorna un diccionario con el nombre del pais y la cantidad de peliculas que se filmaron en ese pais.\n",
    "def peliculas_pais(pais:str):\n",
    "    if not isinstance(pais, str):\n",
    "        return 'Debe ingresar un texto'\n",
    "    else:\n",
    "        cantidad = df_movie[df_movie['production_countries'].apply(lambda paises: pais in paises if isinstance(paises, list) else False)].shape[0]\n",
    "        return {'pais':pais, 'cantidad': str(cantidad)}\n",
    "\n",
    "print(peliculas_pais('United States of America'))"
   ]
  },
  {
   "cell_type": "code",
   "execution_count": 25,
   "metadata": {},
   "outputs": [
    {
     "name": "stdout",
     "output_type": "stream",
     "text": [
      "{'productora': 'Lucasfilm', 'revenue_total': '9898421106.0', 'cantidad': '29'}\n"
     ]
    }
   ],
   "source": [
    "# Esta funcion pide como parametro el nombre de una productora y devuelve un diccionario con el nombre de la productora, recaudacion total (revenue) y cantidad de peliculas\n",
    "def productoras_exitosas(productora:str):\n",
    "    if not isinstance(productora, str):\n",
    "        return 'Debe ingresar un texto'\n",
    "    else:\n",
    "        temp_df = df_movie[df_movie['production_companies'].apply(lambda companies: productora in companies if isinstance(companies, list) else False)]\n",
    "        cantidad = temp_df.shape[0]\n",
    "        revenue_total = temp_df['revenue'].sum()\n",
    "        return {'productora':productora, 'revenue_total': str(revenue_total),'cantidad':str(cantidad)}\n",
    "\n",
    "print(productoras_exitosas('Lucasfilm'))"
   ]
  },
  {
   "cell_type": "code",
   "execution_count": null,
   "metadata": {},
   "outputs": [],
   "source": []
  },
  {
   "cell_type": "markdown",
   "metadata": {},
   "source": [
    "***"
   ]
  },
  {
   "cell_type": "code",
   "execution_count": 132,
   "metadata": {},
   "outputs": [],
   "source": [
    "def cantidad_filmaciones_mes(mes:str):\n",
    "    months = {\n",
    "        \"enero\": 1,\n",
    "        \"febrero\": 2,\n",
    "        \"marzo\": 3,\n",
    "        \"abril\": 4,\n",
    "        \"mayo\": 5,\n",
    "        \"junio\": 6,\n",
    "        \"julio\": 7,\n",
    "        \"agosto\": 8,\n",
    "        \"septiembre\": 9,\n",
    "        \"octubre\": 10,\n",
    "        \"noviembre\": 11,\n",
    "        \"diciembre\": 12\n",
    "    }\n",
    "\n",
    "    if not isinstance(mes, str):\n",
    "        return 'Debe ingresar un texto, por ejemplo, por ejemplo: enero'\n",
    "    elif mes.lower() not in months:\n",
    "        return 'Debe ingresar un mes válido del año, por ejemplo: enero'\n",
    "    else:\n",
    "        mes = mes.lower()\n",
    "        month = months[mes]\n",
    "        resp = df_movie[(df_movie['release_month'] == month)]['release_month'].count()\n",
    "        return {'mes': mes, 'cantidad': str(resp)}"
   ]
  },
  {
   "cell_type": "code",
   "execution_count": 133,
   "metadata": {},
   "outputs": [
    {
     "name": "stdout",
     "output_type": "stream",
     "text": [
      "{'mes': 'enero', 'cantidad': '5831'}\n",
      "{'mes': 'febrero', 'cantidad': '3006'}\n",
      "{'mes': 'marzo', 'cantidad': '3532'}\n",
      "{'mes': 'abril', 'cantidad': '3423'}\n",
      "{'mes': 'mayo', 'cantidad': '3325'}\n",
      "{'mes': 'junio', 'cantidad': '3131'}\n",
      "{'mes': 'julio', 'cantidad': '2630'}\n",
      "{'mes': 'agosto', 'cantidad': '3357'}\n",
      "{'mes': 'septiembre', 'cantidad': '4798'}\n",
      "{'mes': 'octubre', 'cantidad': '4581'}\n",
      "{'mes': 'noviembre', 'cantidad': '3629'}\n",
      "{'mes': 'diciembre', 'cantidad': '3766'}\n",
      "Debe ingresar un mes válido del año, por ejemplo: enero\n",
      "Debe ingresar un texto, por ejemplo, por ejemplo: enero\n"
     ]
    }
   ],
   "source": [
    "months = {\n",
    "        \"enero\": 1,\n",
    "        \"febrero\": 2,\n",
    "        \"marzo\": 3,\n",
    "        \"abril\": 4,\n",
    "        \"mayo\": 5,\n",
    "        \"junio\": 6,\n",
    "        \"julio\": 7,\n",
    "        \"agosto\": 8,\n",
    "        \"septiembre\": 9,\n",
    "        \"octubre\": 10,\n",
    "        \"noviembre\": 11,\n",
    "        \"diciembre\": 12,\n",
    "        \"sabado\":0,\n",
    "        12:0\n",
    "    }\n",
    "for a in months:\n",
    "    print(cantidad_filmaciones_mes(a))"
   ]
  },
  {
   "cell_type": "code",
   "execution_count": 98,
   "metadata": {},
   "outputs": [],
   "source": [
    "def cantidad_filmaciones_dia(dia:str):\n",
    "    days = {\n",
    "    'lunes': 'Monday',\n",
    "    'martes': 'Tuesday',\n",
    "    'miércoles': 'Wednesday',\n",
    "    'jueves': 'Thursday',\n",
    "    'viernes': 'Friday',\n",
    "    'sábado': 'Saturday',\n",
    "    'domingo': 'Sunday'}\n",
    "\n",
    "    if not isinstance(dia, str):\n",
    "        return 'Debe ingresar un texto, por ejemplo: sabado'\n",
    "    elif dia.lower() not in days:\n",
    "        return 'Debe ingresar un dia de la semana, por ejemplo: sabado'\n",
    "    else:\n",
    "        dia = dia.lower()\n",
    "        day = days[dia]\n",
    "        resp = df_movie[(df_movie['release_day'] == day)]['release_day'].count()\n",
    "        return {'dia':dia, 'cantidad':resp}"
   ]
  },
  {
   "cell_type": "code",
   "execution_count": 99,
   "metadata": {},
   "outputs": [
    {
     "name": "stdout",
     "output_type": "stream",
     "text": [
      "{'dia': 'lunes', 'cantidad': 3474}\n",
      "{'dia': 'martes', 'cantidad': 4598}\n",
      "{'dia': 'miércoles', 'cantidad': 6986}\n",
      "{'dia': 'jueves', 'cantidad': 7466}\n",
      "{'dia': 'viernes', 'cantidad': 13783}\n",
      "{'dia': 'sábado', 'cantidad': 5112}\n",
      "{'dia': 'domingo', 'cantidad': 3590}\n",
      "Debe ingresar un dia de la semana, por ejemplo: sabado\n",
      "Debe ingresar un texto, por ejemplo: sabado\n"
     ]
    }
   ],
   "source": [
    "days = {\n",
    "    'lunes': 'Monday',\n",
    "    'martes': 'Tuesday',\n",
    "    'miércoles': 'Wednesday',\n",
    "    'jueves': 'Thursday',\n",
    "    'viernes': 'Friday',\n",
    "    'sábado': 'Saturday',\n",
    "    'domingo': 'Sunday',\n",
    "    \"enero\": 0,\n",
    "    12:0}\n",
    "for a in days:\n",
    "    print(cantidad_filmaciones_dia(a))"
   ]
  },
  {
   "cell_type": "code",
   "execution_count": 129,
   "metadata": {},
   "outputs": [],
   "source": [
    "def score_titulo(titulo:str):\n",
    "    if not isinstance(titulo, str):\n",
    "        return 'Debe ingresar un texto'\n",
    "    elif not (df_movie == titulo).any().any():\n",
    "        return 'La pelicula no se encuentra en la base de datos'\n",
    "    else:\n",
    "        resp = df_movie[df_movie['title'] == titulo][['title','popularity','release_year']].to_dict(orient='records')[0]\n",
    "        return {'titulo':resp['title'], 'popularidad':resp['popularity'], 'año':resp['release_year']}"
   ]
  },
  {
   "cell_type": "code",
   "execution_count": 130,
   "metadata": {},
   "outputs": [
    {
     "name": "stdout",
     "output_type": "stream",
     "text": [
      "La pelicula no se encuentra en la base de datos\n",
      "La pelicula no se encuentra en la base de datos\n",
      "Debe ingresar un texto\n"
     ]
    }
   ],
   "source": [
    "print(score_titulo('123'))\n",
    "print(score_titulo('jumanji'))\n",
    "print(score_titulo(6534))"
   ]
  },
  {
   "cell_type": "code",
   "execution_count": 102,
   "metadata": {},
   "outputs": [],
   "source": [
    "def votos_titulo(titulo:str):\n",
    "    if not isinstance(titulo, str):\n",
    "        return 'Debe ingresar un texto'\n",
    "    elif not (df_movie == titulo).any().any():\n",
    "        return 'La pelicula no se encuentra en la base de datos'\n",
    "    elif int(df_movie[df_movie['title'] == titulo]['vote_count']) > 2000:\n",
    "        resp = df_movie[df_movie['title'] == titulo][['title','vote_count','vote_average']].to_dict(orient='records')[0]\n",
    "        return {'titulo':resp['title'], 'voto_total':resp['vote_count'], 'voto_promedio':resp['vote_average']}\n",
    "    else:\n",
    "        return 'La consulta no cumple con las condicion por ende no se devuelve informacion'"
   ]
  },
  {
   "cell_type": "code",
   "execution_count": 103,
   "metadata": {},
   "outputs": [
    {
     "data": {
      "text/plain": [
       "'La pelicula no se encuentra en la base de datos'"
      ]
     },
     "execution_count": 103,
     "metadata": {},
     "output_type": "execute_result"
    }
   ],
   "source": [
    "votos_titulo('sgw54')"
   ]
  },
  {
   "cell_type": "code",
   "execution_count": 112,
   "metadata": {},
   "outputs": [],
   "source": [
    "def get_actor(nombre_actor:str):\n",
    "    if not isinstance(nombre_actor, str):\n",
    "        return 'Debe ingresar un texto'\n",
    "    \n",
    "    elif not any(nombre_actor in sublist for sublist in df_movie['actors'] if sublist):\n",
    "        return 'El actor no se encuentra en la base de datos'\n",
    "\n",
    "    _return = 0\n",
    "    n_films = 0\n",
    "    avg = 0\n",
    "    for index,lista in enumerate(df_movie['actors']):\n",
    "        if lista: \n",
    "            if nombre_actor in lista:\n",
    "                n_films += 1\n",
    "                _return += df_movie['return'].iloc[index]\n",
    "    \n",
    "    if _return == 0 and n_films == 0:\n",
    "        avg = 0\n",
    "    else:\n",
    "        avg = _return/n_films\n",
    "\n",
    "    return {'actor':nombre_actor, 'cantidad_filmaciones':n_films, 'retorno_total':_return, 'retorno_promedio':avg}"
   ]
  },
  {
   "cell_type": "code",
   "execution_count": 113,
   "metadata": {},
   "outputs": [
    {
     "data": {
      "text/plain": [
       "'El actor no se encuentra en la base de datos'"
      ]
     },
     "execution_count": 113,
     "metadata": {},
     "output_type": "execute_result"
    }
   ],
   "source": [
    "get_actor('sdfsd')"
   ]
  },
  {
   "cell_type": "code",
   "execution_count": 125,
   "metadata": {},
   "outputs": [],
   "source": [
    "def get_director(nombre_director:str):\n",
    "    if not isinstance(nombre_director, str):\n",
    "        return 'Debe ingresar un texto'\n",
    "    elif not any(nombre_director in sublist for sublist in df_movie['directors'] if sublist):\n",
    "        return 'El director no se encuentra en la base de datos'\n",
    "\n",
    "    total_return = 0\n",
    "    movies = []\n",
    "    years = []\n",
    "    _return = []\n",
    "    budget = []\n",
    "    revenue = []\n",
    "    for index,lista in enumerate(df_movie['directors']):\n",
    "        if lista:\n",
    "            if nombre_director in lista:\n",
    "                total_return += df_movie['return'][index]\n",
    "                movies.append(df_movie['title'][index])\n",
    "                years.append(df_movie['release_year'][index])\n",
    "                _return.append(df_movie['return'][index])\n",
    "                budget.append(df_movie['budget'][index])\n",
    "                revenue.append(df_movie['revenue'][index])\n",
    "\n",
    "    return {'director':nombre_director, 'retorno_total_director':total_return, \n",
    "    'peliculas':movies, 'año':years, 'retorno_pelicula':_return, \n",
    "    'budget_pelicula':budget, 'revenue_pelicula':revenue}"
   ]
  },
  {
   "cell_type": "code",
   "execution_count": 126,
   "metadata": {},
   "outputs": [
    {
     "data": {
      "text/plain": [
       "{'director': 'Aki Kaurismäki',\n",
       " 'retorno_total_director': 3.079139631884058,\n",
       " 'peliculas': ['Ariel',\n",
       "  'Shadows in Paradise',\n",
       "  'Lights in the Dusk',\n",
       "  'The Man Without a Past',\n",
       "  'The Match Factory Girl',\n",
       "  'I Hired a Contract Killer',\n",
       "  'Drifting Clouds',\n",
       "  'Hamlet Goes Business',\n",
       "  'Visions of Europe',\n",
       "  'Leningrad Cowboys Go America',\n",
       "  'Ten Minutes Older: The Trumpet',\n",
       "  'Chloe',\n",
       "  'An Unreasonable Man',\n",
       "  'More',\n",
       "  'Blood Out',\n",
       "  'The Mask',\n",
       "  \"Saimir's decision\",\n",
       "  'Mr. & Mrs. Incredible',\n",
       "  'Safe',\n",
       "  'Hansel and Gretel',\n",
       "  'Fire-Eater',\n",
       "  'The Wait',\n",
       "  'Running Wild',\n",
       "  'Justin Timberlake + The Tennessee Kids'],\n",
       " 'año': [1988,\n",
       "  1986,\n",
       "  2006,\n",
       "  2002,\n",
       "  1990,\n",
       "  1990,\n",
       "  1996,\n",
       "  1987,\n",
       "  2004,\n",
       "  1989,\n",
       "  2002,\n",
       "  2009,\n",
       "  2007,\n",
       "  1998,\n",
       "  2011,\n",
       "  1961,\n",
       "  2004,\n",
       "  2011,\n",
       "  2012,\n",
       "  1988,\n",
       "  1998,\n",
       "  2013,\n",
       "  1995,\n",
       "  2016],\n",
       " 'retorno_pelicula': [0.0,\n",
       "  0.0,\n",
       "  1.1703028985507247,\n",
       "  0.0,\n",
       "  0.0,\n",
       "  0.0,\n",
       "  0.0,\n",
       "  0.0,\n",
       "  0.0,\n",
       "  0.0,\n",
       "  0.0,\n",
       "  0.5639638666666666,\n",
       "  0.0,\n",
       "  0.0,\n",
       "  0.0,\n",
       "  0.0,\n",
       "  0.0,\n",
       "  0.0,\n",
       "  1.3448728666666667,\n",
       "  0.0,\n",
       "  0.0,\n",
       "  0.0,\n",
       "  0.0,\n",
       "  0.0],\n",
       " 'budget_pelicula': [0.0,\n",
       "  0.0,\n",
       "  1380000.0,\n",
       "  0.0,\n",
       "  474700.0,\n",
       "  0.0,\n",
       "  0.0,\n",
       "  0.0,\n",
       "  2000000.0,\n",
       "  0.0,\n",
       "  0.0,\n",
       "  15000000.0,\n",
       "  0.0,\n",
       "  0.0,\n",
       "  0.0,\n",
       "  0.0,\n",
       "  0.0,\n",
       "  0.0,\n",
       "  30000000.0,\n",
       "  0.0,\n",
       "  0.0,\n",
       "  0.0,\n",
       "  0.0,\n",
       "  0.0],\n",
       " 'revenue_pelicula': [0.0,\n",
       "  0.0,\n",
       "  1615018.0,\n",
       "  0.0,\n",
       "  0.0,\n",
       "  0.0,\n",
       "  0.0,\n",
       "  0.0,\n",
       "  0.0,\n",
       "  0.0,\n",
       "  0.0,\n",
       "  8459458.0,\n",
       "  0.0,\n",
       "  0.0,\n",
       "  0.0,\n",
       "  0.0,\n",
       "  0.0,\n",
       "  0.0,\n",
       "  40346186.0,\n",
       "  0.0,\n",
       "  0.0,\n",
       "  0.0,\n",
       "  0.0,\n",
       "  0.0]}"
      ]
     },
     "execution_count": 126,
     "metadata": {},
     "output_type": "execute_result"
    }
   ],
   "source": [
    "get_director('Aki Kaurismäki')"
   ]
  },
  {
   "cell_type": "code",
   "execution_count": 17,
   "metadata": {},
   "outputs": [],
   "source": [
    "def recomendacion(titulo:str):\n",
    "    if not isinstance(titulo, str):\n",
    "        return 'Debe ingresar un texto'\n",
    "    elif not (df_movie == titulo).any().any():\n",
    "        return 'La pelicula no se encuentra en la base de datos'\n",
    "    # Cargo los modelos entrenados\n",
    "    tfidf_model = joblib.load(\"./Models/tfidf_model.pkl\")\n",
    "    knn_model = joblib.load(\"./Models/knn_model.pkl\")\n",
    "\n",
    "    title_vector = tfidf_model.transform([titulo])  # Transforma el título de entrada en una representación vectorial\n",
    "    _, indices = knn_model.kneighbors(title_vector)  # Busca los vecinos más cercanos basados en la representación vectorial\n",
    "    recommendations = df_movie[\"title\"].iloc[indices[0][1:]].tolist()  # Obtiene los títulos de las películas más similares (excluyendo la película de referencia)\n",
    "    return {'lista recomendada': str(recommendations)}"
   ]
  },
  {
   "cell_type": "code",
   "execution_count": 18,
   "metadata": {},
   "outputs": [
    {
     "data": {
      "text/plain": [
       "{'lista recomendada': \"['Un marido de ida y vuelta', 'The Sandwich Man', 'Chernobyl Diaries', 'Friday the 13th: A New Beginning', 'Aftershock']\"}"
      ]
     },
     "execution_count": 18,
     "metadata": {},
     "output_type": "execute_result"
    }
   ],
   "source": [
    "recomendacion(\"Manuel on the Island of Wonders\")"
   ]
  }
 ],
 "metadata": {
  "kernelspec": {
   "display_name": "soyhenry",
   "language": "python",
   "name": "python3"
  },
  "language_info": {
   "codemirror_mode": {
    "name": "ipython",
    "version": 3
   },
   "file_extension": ".py",
   "mimetype": "text/x-python",
   "name": "python",
   "nbconvert_exporter": "python",
   "pygments_lexer": "ipython3",
   "version": "3.7.16"
  },
  "orig_nbformat": 4
 },
 "nbformat": 4,
 "nbformat_minor": 2
}
